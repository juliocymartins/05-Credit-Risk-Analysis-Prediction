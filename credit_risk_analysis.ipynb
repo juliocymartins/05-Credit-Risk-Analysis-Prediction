{
 "cells": [
  {
   "cell_type": "markdown",
   "metadata": {},
   "source": [
    "# Credit Risk Analysis Prediction\n",
    "\n",
    "Let's work with the 'Credit Risk Dataset' from Kaggle. In this project, we will analyze and preprocess the data from numerous individuals and construct machine learning models to determine whether loans will be granted or not. We will test the 'Neural Network', 'Gradient Boosting', 'Random Forest', 'SVM', 'KNN', and 'Logistic Regression' models.\n",
    "\n",
    "Dataset Link: https://www.kaggle.com/datasets/laotse/credit-risk-dataset"
   ]
  },
  {
   "cell_type": "markdown",
   "metadata": {},
   "source": [
    "# Summary\n",
    "\n",
    "### Chapter 1: Exploratory Analysis\n",
    "- 1.1: Importing Data and First Look\n",
    "- 1.2: Checking Null Values\n",
    "- 1.3: Checking Unique Values\n",
    "- 1.4: Visual Analysis\n",
    "\n",
    "### Chapter 2: Data Processing\n",
    "- 2.1: Missing Values\n",
    "- 2.2: Handling Outliers\n",
    "- 2.3: Handling Data Types\n",
    "- 2.4: Encoding Features\n",
    "- 2.5: Splitting Data\n",
    "- 2.6: Robust Scaling\n",
    "- 2.7: Undersampling\n",
    "- 2.8: SMOTE\n",
    "\n",
    "### Chapter 3: Building Machine Learning Models\n",
    "- 3.1: Logistic Regression\n",
    "- 3.2: Random Forest\n",
    "- 3.3: XGBoost\n",
    "- 3.4: Gradient Boosting\n",
    "- 3.5: Support Vector Machine (SVM)\n",
    "- 3.6: K-Nearest Neighbors (KNN)\n",
    "- 3.7: Neural Network\n",
    "\n",
    "### Chapter 4: Testing Model and Conclusion\n",
    "- 4.1: Testing Model"
   ]
  },
  {
   "cell_type": "markdown",
   "metadata": {},
   "source": [
    "# Chapter 1 - Exploratory and Statistical Analysis"
   ]
  },
  {
   "cell_type": "code",
   "execution_count": 1,
   "metadata": {},
   "outputs": [],
   "source": [
    "import pandas as pd\n",
    "import matplotlib.pyplot as plt\n",
    "import seaborn as sns\n",
    "\n",
    "import warnings\n",
    "warnings.filterwarnings(\"ignore\")"
   ]
  },
  {
   "cell_type": "markdown",
   "metadata": {},
   "source": [
    "- Feature Name:\t                    Description\n",
    "- person_age:\t                    Age\n",
    "- person_income:\t                Annual Income\n",
    "- person_home_ownership:\t        Home ownership\n",
    "- person_emp_length:\t            Employment length (in years)\n",
    "- loan_intent:\t                    Loan intent\n",
    "- loan_grade:\t                    Loan grade\n",
    "- loan_amnt:\t                    Loan amount\n",
    "- loan_int_rate:\t                Interest rate\n",
    "- loan_status:\t                    Loan status (0 is non default 1 is default)\n",
    "- loan_percent_income:\t            Percent income\n",
    "- cb_person_default_on_file:\t    Historical default\n",
    "- cb_preson_cred_hist_length:\t    Credit history length"
   ]
  },
  {
   "cell_type": "markdown",
   "metadata": {},
   "source": [
    "\"loan_status\" is our target class.\n",
    "\n",
    "loan_status 0 = loan denied.\n",
    "\n",
    "loan_status 1 = loan approved."
   ]
  },
  {
   "cell_type": "markdown",
   "metadata": {},
   "source": [
    "### 1.1: Importing Data and First Look"
   ]
  },
  {
   "cell_type": "code",
   "execution_count": 2,
   "metadata": {},
   "outputs": [
    {
     "data": {
      "text/html": [
       "<div>\n",
       "<style scoped>\n",
       "    .dataframe tbody tr th:only-of-type {\n",
       "        vertical-align: middle;\n",
       "    }\n",
       "\n",
       "    .dataframe tbody tr th {\n",
       "        vertical-align: top;\n",
       "    }\n",
       "\n",
       "    .dataframe thead th {\n",
       "        text-align: right;\n",
       "    }\n",
       "</style>\n",
       "<table border=\"1\" class=\"dataframe\">\n",
       "  <thead>\n",
       "    <tr style=\"text-align: right;\">\n",
       "      <th></th>\n",
       "      <th>person_age</th>\n",
       "      <th>person_income</th>\n",
       "      <th>person_home_ownership</th>\n",
       "      <th>person_emp_length</th>\n",
       "      <th>loan_intent</th>\n",
       "      <th>loan_grade</th>\n",
       "      <th>loan_amnt</th>\n",
       "      <th>loan_int_rate</th>\n",
       "      <th>loan_status</th>\n",
       "      <th>loan_percent_income</th>\n",
       "      <th>cb_person_default_on_file</th>\n",
       "      <th>cb_person_cred_hist_length</th>\n",
       "    </tr>\n",
       "  </thead>\n",
       "  <tbody>\n",
       "    <tr>\n",
       "      <th>0</th>\n",
       "      <td>22</td>\n",
       "      <td>59000</td>\n",
       "      <td>RENT</td>\n",
       "      <td>123.0</td>\n",
       "      <td>PERSONAL</td>\n",
       "      <td>D</td>\n",
       "      <td>35000</td>\n",
       "      <td>16.02</td>\n",
       "      <td>1</td>\n",
       "      <td>0.59</td>\n",
       "      <td>Y</td>\n",
       "      <td>3</td>\n",
       "    </tr>\n",
       "    <tr>\n",
       "      <th>1</th>\n",
       "      <td>21</td>\n",
       "      <td>9600</td>\n",
       "      <td>OWN</td>\n",
       "      <td>5.0</td>\n",
       "      <td>EDUCATION</td>\n",
       "      <td>B</td>\n",
       "      <td>1000</td>\n",
       "      <td>11.14</td>\n",
       "      <td>0</td>\n",
       "      <td>0.10</td>\n",
       "      <td>N</td>\n",
       "      <td>2</td>\n",
       "    </tr>\n",
       "    <tr>\n",
       "      <th>2</th>\n",
       "      <td>25</td>\n",
       "      <td>9600</td>\n",
       "      <td>MORTGAGE</td>\n",
       "      <td>1.0</td>\n",
       "      <td>MEDICAL</td>\n",
       "      <td>C</td>\n",
       "      <td>5500</td>\n",
       "      <td>12.87</td>\n",
       "      <td>1</td>\n",
       "      <td>0.57</td>\n",
       "      <td>N</td>\n",
       "      <td>3</td>\n",
       "    </tr>\n",
       "    <tr>\n",
       "      <th>3</th>\n",
       "      <td>23</td>\n",
       "      <td>65500</td>\n",
       "      <td>RENT</td>\n",
       "      <td>4.0</td>\n",
       "      <td>MEDICAL</td>\n",
       "      <td>C</td>\n",
       "      <td>35000</td>\n",
       "      <td>15.23</td>\n",
       "      <td>1</td>\n",
       "      <td>0.53</td>\n",
       "      <td>N</td>\n",
       "      <td>2</td>\n",
       "    </tr>\n",
       "    <tr>\n",
       "      <th>4</th>\n",
       "      <td>24</td>\n",
       "      <td>54400</td>\n",
       "      <td>RENT</td>\n",
       "      <td>8.0</td>\n",
       "      <td>MEDICAL</td>\n",
       "      <td>C</td>\n",
       "      <td>35000</td>\n",
       "      <td>14.27</td>\n",
       "      <td>1</td>\n",
       "      <td>0.55</td>\n",
       "      <td>Y</td>\n",
       "      <td>4</td>\n",
       "    </tr>\n",
       "    <tr>\n",
       "      <th>...</th>\n",
       "      <td>...</td>\n",
       "      <td>...</td>\n",
       "      <td>...</td>\n",
       "      <td>...</td>\n",
       "      <td>...</td>\n",
       "      <td>...</td>\n",
       "      <td>...</td>\n",
       "      <td>...</td>\n",
       "      <td>...</td>\n",
       "      <td>...</td>\n",
       "      <td>...</td>\n",
       "      <td>...</td>\n",
       "    </tr>\n",
       "    <tr>\n",
       "      <th>32576</th>\n",
       "      <td>57</td>\n",
       "      <td>53000</td>\n",
       "      <td>MORTGAGE</td>\n",
       "      <td>1.0</td>\n",
       "      <td>PERSONAL</td>\n",
       "      <td>C</td>\n",
       "      <td>5800</td>\n",
       "      <td>13.16</td>\n",
       "      <td>0</td>\n",
       "      <td>0.11</td>\n",
       "      <td>N</td>\n",
       "      <td>30</td>\n",
       "    </tr>\n",
       "    <tr>\n",
       "      <th>32577</th>\n",
       "      <td>54</td>\n",
       "      <td>120000</td>\n",
       "      <td>MORTGAGE</td>\n",
       "      <td>4.0</td>\n",
       "      <td>PERSONAL</td>\n",
       "      <td>A</td>\n",
       "      <td>17625</td>\n",
       "      <td>7.49</td>\n",
       "      <td>0</td>\n",
       "      <td>0.15</td>\n",
       "      <td>N</td>\n",
       "      <td>19</td>\n",
       "    </tr>\n",
       "    <tr>\n",
       "      <th>32578</th>\n",
       "      <td>65</td>\n",
       "      <td>76000</td>\n",
       "      <td>RENT</td>\n",
       "      <td>3.0</td>\n",
       "      <td>HOMEIMPROVEMENT</td>\n",
       "      <td>B</td>\n",
       "      <td>35000</td>\n",
       "      <td>10.99</td>\n",
       "      <td>1</td>\n",
       "      <td>0.46</td>\n",
       "      <td>N</td>\n",
       "      <td>28</td>\n",
       "    </tr>\n",
       "    <tr>\n",
       "      <th>32579</th>\n",
       "      <td>56</td>\n",
       "      <td>150000</td>\n",
       "      <td>MORTGAGE</td>\n",
       "      <td>5.0</td>\n",
       "      <td>PERSONAL</td>\n",
       "      <td>B</td>\n",
       "      <td>15000</td>\n",
       "      <td>11.48</td>\n",
       "      <td>0</td>\n",
       "      <td>0.10</td>\n",
       "      <td>N</td>\n",
       "      <td>26</td>\n",
       "    </tr>\n",
       "    <tr>\n",
       "      <th>32580</th>\n",
       "      <td>66</td>\n",
       "      <td>42000</td>\n",
       "      <td>RENT</td>\n",
       "      <td>2.0</td>\n",
       "      <td>MEDICAL</td>\n",
       "      <td>B</td>\n",
       "      <td>6475</td>\n",
       "      <td>9.99</td>\n",
       "      <td>0</td>\n",
       "      <td>0.15</td>\n",
       "      <td>N</td>\n",
       "      <td>30</td>\n",
       "    </tr>\n",
       "  </tbody>\n",
       "</table>\n",
       "<p>32581 rows × 12 columns</p>\n",
       "</div>"
      ],
      "text/plain": [
       "       person_age  person_income person_home_ownership  person_emp_length  \\\n",
       "0              22          59000                  RENT              123.0   \n",
       "1              21           9600                   OWN                5.0   \n",
       "2              25           9600              MORTGAGE                1.0   \n",
       "3              23          65500                  RENT                4.0   \n",
       "4              24          54400                  RENT                8.0   \n",
       "...           ...            ...                   ...                ...   \n",
       "32576          57          53000              MORTGAGE                1.0   \n",
       "32577          54         120000              MORTGAGE                4.0   \n",
       "32578          65          76000                  RENT                3.0   \n",
       "32579          56         150000              MORTGAGE                5.0   \n",
       "32580          66          42000                  RENT                2.0   \n",
       "\n",
       "           loan_intent loan_grade  loan_amnt  loan_int_rate  loan_status  \\\n",
       "0             PERSONAL          D      35000          16.02            1   \n",
       "1            EDUCATION          B       1000          11.14            0   \n",
       "2              MEDICAL          C       5500          12.87            1   \n",
       "3              MEDICAL          C      35000          15.23            1   \n",
       "4              MEDICAL          C      35000          14.27            1   \n",
       "...                ...        ...        ...            ...          ...   \n",
       "32576         PERSONAL          C       5800          13.16            0   \n",
       "32577         PERSONAL          A      17625           7.49            0   \n",
       "32578  HOMEIMPROVEMENT          B      35000          10.99            1   \n",
       "32579         PERSONAL          B      15000          11.48            0   \n",
       "32580          MEDICAL          B       6475           9.99            0   \n",
       "\n",
       "       loan_percent_income cb_person_default_on_file  \\\n",
       "0                     0.59                         Y   \n",
       "1                     0.10                         N   \n",
       "2                     0.57                         N   \n",
       "3                     0.53                         N   \n",
       "4                     0.55                         Y   \n",
       "...                    ...                       ...   \n",
       "32576                 0.11                         N   \n",
       "32577                 0.15                         N   \n",
       "32578                 0.46                         N   \n",
       "32579                 0.10                         N   \n",
       "32580                 0.15                         N   \n",
       "\n",
       "       cb_person_cred_hist_length  \n",
       "0                               3  \n",
       "1                               2  \n",
       "2                               3  \n",
       "3                               2  \n",
       "4                               4  \n",
       "...                           ...  \n",
       "32576                          30  \n",
       "32577                          19  \n",
       "32578                          28  \n",
       "32579                          26  \n",
       "32580                          30  \n",
       "\n",
       "[32581 rows x 12 columns]"
      ]
     },
     "execution_count": 2,
     "metadata": {},
     "output_type": "execute_result"
    }
   ],
   "source": [
    "credit_df = pd.read_csv(\"credit_risk_dataset.csv\")\n",
    "\n",
    "credit_df"
   ]
  },
  {
   "cell_type": "code",
   "execution_count": 3,
   "metadata": {},
   "outputs": [
    {
     "name": "stdout",
     "output_type": "stream",
     "text": [
      "<class 'pandas.core.frame.DataFrame'>\n",
      "RangeIndex: 32581 entries, 0 to 32580\n",
      "Data columns (total 12 columns):\n",
      " #   Column                      Non-Null Count  Dtype  \n",
      "---  ------                      --------------  -----  \n",
      " 0   person_age                  32581 non-null  int64  \n",
      " 1   person_income               32581 non-null  int64  \n",
      " 2   person_home_ownership       32581 non-null  object \n",
      " 3   person_emp_length           31686 non-null  float64\n",
      " 4   loan_intent                 32581 non-null  object \n",
      " 5   loan_grade                  32581 non-null  object \n",
      " 6   loan_amnt                   32581 non-null  int64  \n",
      " 7   loan_int_rate               29465 non-null  float64\n",
      " 8   loan_status                 32581 non-null  int64  \n",
      " 9   loan_percent_income         32581 non-null  float64\n",
      " 10  cb_person_default_on_file   32581 non-null  object \n",
      " 11  cb_person_cred_hist_length  32581 non-null  int64  \n",
      "dtypes: float64(3), int64(5), object(4)\n",
      "memory usage: 3.0+ MB\n"
     ]
    }
   ],
   "source": [
    "credit_df.info()"
   ]
  },
  {
   "cell_type": "code",
   "execution_count": 4,
   "metadata": {},
   "outputs": [
    {
     "data": {
      "text/html": [
       "<div>\n",
       "<style scoped>\n",
       "    .dataframe tbody tr th:only-of-type {\n",
       "        vertical-align: middle;\n",
       "    }\n",
       "\n",
       "    .dataframe tbody tr th {\n",
       "        vertical-align: top;\n",
       "    }\n",
       "\n",
       "    .dataframe thead th {\n",
       "        text-align: right;\n",
       "    }\n",
       "</style>\n",
       "<table border=\"1\" class=\"dataframe\">\n",
       "  <thead>\n",
       "    <tr style=\"text-align: right;\">\n",
       "      <th></th>\n",
       "      <th>person_age</th>\n",
       "      <th>person_income</th>\n",
       "      <th>person_emp_length</th>\n",
       "      <th>loan_amnt</th>\n",
       "      <th>loan_int_rate</th>\n",
       "      <th>loan_status</th>\n",
       "      <th>loan_percent_income</th>\n",
       "      <th>cb_person_cred_hist_length</th>\n",
       "    </tr>\n",
       "  </thead>\n",
       "  <tbody>\n",
       "    <tr>\n",
       "      <th>count</th>\n",
       "      <td>32581.000000</td>\n",
       "      <td>3.258100e+04</td>\n",
       "      <td>31686.000000</td>\n",
       "      <td>32581.000000</td>\n",
       "      <td>29465.000000</td>\n",
       "      <td>32581.000000</td>\n",
       "      <td>32581.000000</td>\n",
       "      <td>32581.000000</td>\n",
       "    </tr>\n",
       "    <tr>\n",
       "      <th>mean</th>\n",
       "      <td>27.734600</td>\n",
       "      <td>6.607485e+04</td>\n",
       "      <td>4.789686</td>\n",
       "      <td>9589.371106</td>\n",
       "      <td>11.011695</td>\n",
       "      <td>0.218164</td>\n",
       "      <td>0.170203</td>\n",
       "      <td>5.804211</td>\n",
       "    </tr>\n",
       "    <tr>\n",
       "      <th>std</th>\n",
       "      <td>6.348078</td>\n",
       "      <td>6.198312e+04</td>\n",
       "      <td>4.142630</td>\n",
       "      <td>6322.086646</td>\n",
       "      <td>3.240459</td>\n",
       "      <td>0.413006</td>\n",
       "      <td>0.106782</td>\n",
       "      <td>4.055001</td>\n",
       "    </tr>\n",
       "    <tr>\n",
       "      <th>min</th>\n",
       "      <td>20.000000</td>\n",
       "      <td>4.000000e+03</td>\n",
       "      <td>0.000000</td>\n",
       "      <td>500.000000</td>\n",
       "      <td>5.420000</td>\n",
       "      <td>0.000000</td>\n",
       "      <td>0.000000</td>\n",
       "      <td>2.000000</td>\n",
       "    </tr>\n",
       "    <tr>\n",
       "      <th>25%</th>\n",
       "      <td>23.000000</td>\n",
       "      <td>3.850000e+04</td>\n",
       "      <td>2.000000</td>\n",
       "      <td>5000.000000</td>\n",
       "      <td>7.900000</td>\n",
       "      <td>0.000000</td>\n",
       "      <td>0.090000</td>\n",
       "      <td>3.000000</td>\n",
       "    </tr>\n",
       "    <tr>\n",
       "      <th>50%</th>\n",
       "      <td>26.000000</td>\n",
       "      <td>5.500000e+04</td>\n",
       "      <td>4.000000</td>\n",
       "      <td>8000.000000</td>\n",
       "      <td>10.990000</td>\n",
       "      <td>0.000000</td>\n",
       "      <td>0.150000</td>\n",
       "      <td>4.000000</td>\n",
       "    </tr>\n",
       "    <tr>\n",
       "      <th>75%</th>\n",
       "      <td>30.000000</td>\n",
       "      <td>7.920000e+04</td>\n",
       "      <td>7.000000</td>\n",
       "      <td>12200.000000</td>\n",
       "      <td>13.470000</td>\n",
       "      <td>0.000000</td>\n",
       "      <td>0.230000</td>\n",
       "      <td>8.000000</td>\n",
       "    </tr>\n",
       "    <tr>\n",
       "      <th>max</th>\n",
       "      <td>144.000000</td>\n",
       "      <td>6.000000e+06</td>\n",
       "      <td>123.000000</td>\n",
       "      <td>35000.000000</td>\n",
       "      <td>23.220000</td>\n",
       "      <td>1.000000</td>\n",
       "      <td>0.830000</td>\n",
       "      <td>30.000000</td>\n",
       "    </tr>\n",
       "  </tbody>\n",
       "</table>\n",
       "</div>"
      ],
      "text/plain": [
       "         person_age  person_income  person_emp_length     loan_amnt  \\\n",
       "count  32581.000000   3.258100e+04       31686.000000  32581.000000   \n",
       "mean      27.734600   6.607485e+04           4.789686   9589.371106   \n",
       "std        6.348078   6.198312e+04           4.142630   6322.086646   \n",
       "min       20.000000   4.000000e+03           0.000000    500.000000   \n",
       "25%       23.000000   3.850000e+04           2.000000   5000.000000   \n",
       "50%       26.000000   5.500000e+04           4.000000   8000.000000   \n",
       "75%       30.000000   7.920000e+04           7.000000  12200.000000   \n",
       "max      144.000000   6.000000e+06         123.000000  35000.000000   \n",
       "\n",
       "       loan_int_rate   loan_status  loan_percent_income  \\\n",
       "count   29465.000000  32581.000000         32581.000000   \n",
       "mean       11.011695      0.218164             0.170203   \n",
       "std         3.240459      0.413006             0.106782   \n",
       "min         5.420000      0.000000             0.000000   \n",
       "25%         7.900000      0.000000             0.090000   \n",
       "50%        10.990000      0.000000             0.150000   \n",
       "75%        13.470000      0.000000             0.230000   \n",
       "max        23.220000      1.000000             0.830000   \n",
       "\n",
       "       cb_person_cred_hist_length  \n",
       "count                32581.000000  \n",
       "mean                     5.804211  \n",
       "std                      4.055001  \n",
       "min                      2.000000  \n",
       "25%                      3.000000  \n",
       "50%                      4.000000  \n",
       "75%                      8.000000  \n",
       "max                     30.000000  "
      ]
     },
     "execution_count": 4,
     "metadata": {},
     "output_type": "execute_result"
    }
   ],
   "source": [
    "credit_df.describe() "
   ]
  },
  {
   "cell_type": "markdown",
   "metadata": {},
   "source": [
    "### 1.2: Checking Null Values"
   ]
  },
  {
   "cell_type": "code",
   "execution_count": 5,
   "metadata": {},
   "outputs": [
    {
     "data": {
      "text/plain": [
       "person_age                       0\n",
       "person_income                    0\n",
       "person_home_ownership            0\n",
       "person_emp_length              895\n",
       "loan_intent                      0\n",
       "loan_grade                       0\n",
       "loan_amnt                        0\n",
       "loan_int_rate                 3116\n",
       "loan_status                      0\n",
       "loan_percent_income              0\n",
       "cb_person_default_on_file        0\n",
       "cb_person_cred_hist_length       0\n",
       "dtype: int64"
      ]
     },
     "execution_count": 5,
     "metadata": {},
     "output_type": "execute_result"
    }
   ],
   "source": [
    "credit_df.isnull().sum()"
   ]
  },
  {
   "cell_type": "markdown",
   "metadata": {},
   "source": [
    "### 1.3: Checking Unique Values"
   ]
  },
  {
   "cell_type": "code",
   "execution_count": 6,
   "metadata": {},
   "outputs": [
    {
     "name": "stdout",
     "output_type": "stream",
     "text": [
      "Unique values in 'loan_status': [1 0]\n",
      "Unique values in 'cb_person_default_on_file': ['Y' 'N']\n"
     ]
    }
   ],
   "source": [
    "binary_features = ['loan_status', 'cb_person_default_on_file']\n",
    "\n",
    "for feature in binary_features:\n",
    "    unique_values = credit_df[feature].unique()\n",
    "    print(f\"Unique values in '{feature}': {unique_values}\")"
   ]
  },
  {
   "cell_type": "code",
   "execution_count": 7,
   "metadata": {},
   "outputs": [
    {
     "name": "stdout",
     "output_type": "stream",
     "text": [
      "Unique values in 'person_home_ownership': ['RENT' 'OWN' 'MORTGAGE' 'OTHER']\n",
      "Unique values in 'loan_intent': ['PERSONAL' 'EDUCATION' 'MEDICAL' 'VENTURE' 'HOMEIMPROVEMENT'\n",
      " 'DEBTCONSOLIDATION']\n"
     ]
    }
   ],
   "source": [
    "ohe_features = ['person_home_ownership', 'loan_intent']\n",
    "\n",
    "for feature in ohe_features:\n",
    "    unique_values = credit_df[feature].unique()\n",
    "    print(f\"Unique values in '{feature}': {unique_values}\")"
   ]
  },
  {
   "cell_type": "code",
   "execution_count": 8,
   "metadata": {},
   "outputs": [
    {
     "name": "stdout",
     "output_type": "stream",
     "text": [
      "Unique values in 'loan_grade': ['D' 'B' 'C' 'A' 'E' 'F' 'G']\n"
     ]
    }
   ],
   "source": [
    "ordinal_features = credit_df['loan_grade']\n",
    "\n",
    "print(f\"Unique values in 'loan_grade': {ordinal_features.unique()}\")"
   ]
  },
  {
   "cell_type": "code",
   "execution_count": 9,
   "metadata": {},
   "outputs": [
    {
     "data": {
      "text/plain": [
       "['person_age',\n",
       " 'person_income',\n",
       " 'person_emp_length',\n",
       " 'loan_amnt',\n",
       " 'loan_int_rate',\n",
       " 'loan_percent_income',\n",
       " 'cb_person_cred_hist_length']"
      ]
     },
     "execution_count": 9,
     "metadata": {},
     "output_type": "execute_result"
    }
   ],
   "source": [
    "num_features = credit_df.select_dtypes(include=['int64', 'float64']).columns.tolist()\n",
    "num_features = [col for col in num_features if col != 'loan_status']\n",
    "\n",
    "num_features"
   ]
  },
  {
   "cell_type": "markdown",
   "metadata": {},
   "source": [
    "### 1.4: Visual Analysis"
   ]
  },
  {
   "cell_type": "code",
   "execution_count": 10,
   "metadata": {},
   "outputs": [
    {
     "data": {
      "image/png": "[encoded data removed]",
      "text/plain": [
       "<Figure size 640x480 with 1 Axes>"
      ]
     },
     "metadata": {},
     "output_type": "display_data"
    }
   ],
   "source": [
    "colors = sns.color_palette(\"RdBu\", n_colors=2)\n",
    "\n",
    "count_0 = credit_df['loan_status'].value_counts()[0]\n",
    "count_1 = credit_df['loan_status'].value_counts()[1]\n",
    "\n",
    "plt.bar(['Approved(0)', 'Not Approved(1)'], [count_0, count_1], color=colors)\n",
    "\n",
    "plt.title('Loan Status Comparison')\n",
    "plt.xlabel('Loan Status')\n",
    "\n",
    "for i, count in enumerate([count_0, count_1]):\n",
    "    plt.text(i, count, str(count), ha='center', va='bottom')\n",
    "\n",
    "plt.show()"
   ]
  },
  {
   "cell_type": "code",
   "execution_count": 11,
   "metadata": {},
   "outputs": [
    {
     "data": {
      "image/png": "[encoded data removed]",
      "text/plain": [
       "<Figure size 640x480 with 1 Axes>"
      ]
     },
     "metadata": {},
     "output_type": "display_data"
    }
   ],
   "source": [
    "percentage_0 = (count_0 / len(credit_df)) * 100\n",
    "percentage_1 = (count_1 / len(credit_df)) * 100\n",
    "\n",
    "labels = ['Not Approved (0)', 'Approved (1)']\n",
    "sizes = [percentage_0, percentage_1]\n",
    "\n",
    "plt.pie(sizes, labels=labels, autopct='%1.1f%%', startangle=70, colors=colors)\n",
    "\n",
    "plt.title('Loan Status Distribution')\n",
    "\n",
    "plt.axis('equal')  \n",
    "plt.show()"
   ]
  },
  {
   "cell_type": "code",
   "execution_count": 12,
   "metadata": {},
   "outputs": [
    {
     "data": {
      "image/png": "[encoded data removed]",
      "text/plain": [
       "<Figure size 1000x2000 with 7 Axes>"
      ]
     },
     "metadata": {},
     "output_type": "display_data"
    }
   ],
   "source": [
    "import math\n",
    "\n",
    "n_cols = 2\n",
    "n_rows = math.ceil(len(num_features) / n_cols)\n",
    "\n",
    "plt.figure(figsize=(5*n_cols, 5*n_rows))\n",
    "\n",
    "for i, col in enumerate(num_features):\n",
    "    plt.subplot(n_rows, n_cols, i+1)  # posição do subplot\n",
    "    sns.boxplot(y=credit_df[col], color=colors[1])\n",
    "    plt.title(f'Boxplot of {col}')\n",
    "\n",
    "plt.tight_layout()  # ajusta os espaços para não sobrepor títulos\n",
    "plt.show()"
   ]
  },
  {
   "cell_type": "code",
   "execution_count": 47,
   "metadata": {},
   "outputs": [
    {
     "data": {
      "image/png": "[encoded data removed]",
      "text/plain": [
       "<Figure size 1000x800 with 2 Axes>"
      ]
     },
     "metadata": {},
     "output_type": "display_data"
    }
   ],
   "source": [
    "corr_matrix = credit_df[num_features].corr()\n",
    "\n",
    "plt.figure(figsize=(10,8))\n",
    "sns.heatmap(corr_matrix, annot=True, fmt=\".2f\", cmap=\"coolwarm\", cbar=True)\n",
    "plt.title(\"Correlation Heatmap of Numerical Features\")\n",
    "plt.show()"
   ]
  },
  {
   "cell_type": "markdown",
   "metadata": {},
   "source": [
    "# Chapter 2: Data Processing"
   ]
  },
  {
   "cell_type": "code",
   "execution_count": 13,
   "metadata": {},
   "outputs": [],
   "source": [
    "credit_df_clean = credit_df.copy()"
   ]
  },
  {
   "cell_type": "markdown",
   "metadata": {},
   "source": [
    "### 2.1: Missing Values "
   ]
  },
  {
   "cell_type": "code",
   "execution_count": 14,
   "metadata": {},
   "outputs": [],
   "source": [
    "from functions import replace_nan_with_median\n",
    "\n",
    "replace_nan_with_median(credit_df_clean, 'person_emp_length')"
   ]
  },
  {
   "cell_type": "code",
   "execution_count": 15,
   "metadata": {},
   "outputs": [
    {
     "data": {
      "text/plain": [
       "person_age                    0\n",
       "person_income                 0\n",
       "person_home_ownership         0\n",
       "person_emp_length             0\n",
       "loan_intent                   0\n",
       "loan_grade                    0\n",
       "loan_amnt                     0\n",
       "loan_int_rate                 0\n",
       "loan_status                   0\n",
       "loan_percent_income           0\n",
       "cb_person_default_on_file     0\n",
       "cb_person_cred_hist_length    0\n",
       "dtype: int64"
      ]
     },
     "execution_count": 15,
     "metadata": {},
     "output_type": "execute_result"
    }
   ],
   "source": [
    "replace_nan_with_median(credit_df_clean, 'loan_int_rate')\n",
    "\n",
    "credit_df_clean.isnull().sum()"
   ]
  },
  {
   "cell_type": "markdown",
   "metadata": {},
   "source": [
    "### 2.2: Handling Outliers\n",
    "\n",
    "Since it’s practically impossible for a person to be over 120 years old or employed for more than 120 years, we have decided to remove the outliers identified in the previous step."
   ]
  },
  {
   "cell_type": "code",
   "execution_count": 16,
   "metadata": {},
   "outputs": [
    {
     "data": {
      "text/plain": [
       "np.float64(41.0)"
      ]
     },
     "execution_count": 16,
     "metadata": {},
     "output_type": "execute_result"
    }
   ],
   "source": [
    "from functions import remove_values_above_max\n",
    "\n",
    "remove_values_above_max(credit_df_clean, 'person_emp_length', 100)\n",
    "credit_df_clean['person_emp_length'].max()"
   ]
  },
  {
   "cell_type": "markdown",
   "metadata": {},
   "source": [
    "### 2.3: Handling Data Types"
   ]
  },
  {
   "cell_type": "code",
   "execution_count": 17,
   "metadata": {},
   "outputs": [
    {
     "data": {
      "text/plain": [
       "array([False,  True])"
      ]
     },
     "execution_count": 17,
     "metadata": {},
     "output_type": "execute_result"
    }
   ],
   "source": [
    "from functions import transform_values\n",
    "\n",
    "transform_values(credit_df_clean, 'cb_person_default_on_file', {'Y': True, 'N': False})\n",
    "\n",
    "credit_df_clean['cb_person_default_on_file'].unique()"
   ]
  },
  {
   "cell_type": "markdown",
   "metadata": {},
   "source": [
    "### 2.4: Encoding Features"
   ]
  },
  {
   "cell_type": "code",
   "execution_count": 18,
   "metadata": {},
   "outputs": [],
   "source": [
    "from sklearn.preprocessing import OneHotEncoder\n",
    "\n",
    "ohe = OneHotEncoder(sparse_output=False, drop='first') \n",
    "\n",
    "ohe_encoded = ohe.fit_transform(credit_df_clean[ohe_features])\n",
    "\n",
    "ohe_df = pd.DataFrame(\n",
    "    ohe_encoded, \n",
    "    columns=ohe.get_feature_names_out(ohe_features), \n",
    "    index=credit_df_clean.index \n",
    ")\n",
    "\n",
    "credit_df_clean = pd.concat([credit_df_clean.drop(columns=ohe_features), ohe_df], axis=1)"
   ]
  },
  {
   "cell_type": "code",
   "execution_count": 19,
   "metadata": {},
   "outputs": [
    {
     "name": "stdout",
     "output_type": "stream",
     "text": [
      "<class 'pandas.core.frame.DataFrame'>\n",
      "Index: 32579 entries, 1 to 32580\n",
      "Data columns (total 18 columns):\n",
      " #   Column                       Non-Null Count  Dtype  \n",
      "---  ------                       --------------  -----  \n",
      " 0   person_age                   32579 non-null  int64  \n",
      " 1   person_income                32579 non-null  int64  \n",
      " 2   person_emp_length            32579 non-null  float64\n",
      " 3   loan_grade                   32579 non-null  float64\n",
      " 4   loan_amnt                    32579 non-null  int64  \n",
      " 5   loan_int_rate                32579 non-null  float64\n",
      " 6   loan_status                  32579 non-null  int64  \n",
      " 7   loan_percent_income          32579 non-null  float64\n",
      " 8   cb_person_default_on_file    32579 non-null  bool   \n",
      " 9   cb_person_cred_hist_length   32579 non-null  int64  \n",
      " 10  person_home_ownership_OTHER  32579 non-null  float64\n",
      " 11  person_home_ownership_OWN    32579 non-null  float64\n",
      " 12  person_home_ownership_RENT   32579 non-null  float64\n",
      " 13  loan_intent_EDUCATION        32579 non-null  float64\n",
      " 14  loan_intent_HOMEIMPROVEMENT  32579 non-null  float64\n",
      " 15  loan_intent_MEDICAL          32579 non-null  float64\n",
      " 16  loan_intent_PERSONAL         32579 non-null  float64\n",
      " 17  loan_intent_VENTURE          32579 non-null  float64\n",
      "dtypes: bool(1), float64(12), int64(5)\n",
      "memory usage: 4.5 MB\n"
     ]
    }
   ],
   "source": [
    "from sklearn.preprocessing import OrdinalEncoder\n",
    "\n",
    "grade_order = ['A', 'B', 'C', 'D', 'E', 'F', 'G']\n",
    "ord_enc = OrdinalEncoder(categories=[grade_order])\n",
    "\n",
    "credit_df_clean['loan_grade'] = ord_enc.fit_transform(credit_df_clean[['loan_grade']])\n",
    "\n",
    "credit_df_clean.info()"
   ]
  },
  {
   "cell_type": "markdown",
   "metadata": {},
   "source": [
    "### 2.5: Splitting Data"
   ]
  },
  {
   "cell_type": "code",
   "execution_count": 20,
   "metadata": {},
   "outputs": [
    {
     "name": "stdout",
     "output_type": "stream",
     "text": [
      "Shape of training set: (19547, 17) (19547,)\n",
      "Shape of validation set: (6516, 17) (6516,)\n",
      "Shape of test set: (6516, 17) (6516,)\n"
     ]
    }
   ],
   "source": [
    "from sklearn.model_selection import train_test_split\n",
    "\n",
    "X = credit_df_clean.drop('loan_status', axis=1) \n",
    "y = credit_df_clean['loan_status']  \n",
    "\n",
    "X_train_val, X_test, y_train_val, y_test = train_test_split(X, y, test_size=0.2, stratify=y, random_state=42)\n",
    "X_train, X_val, y_train, y_val = train_test_split(X_train_val, y_train_val, test_size=0.25, random_state=42)  # Splitting again to obtain the validation set\n",
    "\n",
    "print(\"Shape of training set:\", X_train.shape, y_train.shape)\n",
    "print(\"Shape of validation set:\", X_val.shape, y_val.shape)\n",
    "print(\"Shape of test set:\", X_test.shape, y_test.shape)"
   ]
  },
  {
   "cell_type": "markdown",
   "metadata": {},
   "source": [
    "### 2.6: Robust Scaling"
   ]
  },
  {
   "cell_type": "code",
   "execution_count": 21,
   "metadata": {},
   "outputs": [],
   "source": [
    "from sklearn.preprocessing import RobustScaler\n",
    "\n",
    "scaler = RobustScaler()\n",
    "\n",
    "X_train[num_features] = scaler.fit_transform(X_train[num_features])\n",
    "\n",
    "X_val[num_features] = scaler.transform(X_val[num_features])\n",
    "X_test[num_features] = scaler.transform(X_test[num_features])"
   ]
  },
  {
   "cell_type": "markdown",
   "metadata": {},
   "source": [
    "### 2.7: Undersampling"
   ]
  },
  {
   "cell_type": "code",
   "execution_count": 22,
   "metadata": {},
   "outputs": [
    {
     "name": "stdout",
     "output_type": "stream",
     "text": [
      "Shape of the training set after undersampling: (8512, 17) (8512,)\n"
     ]
    }
   ],
   "source": [
    "from imblearn.under_sampling import RandomUnderSampler\n",
    "\n",
    "undersampler = RandomUnderSampler(random_state=42)\n",
    "X_train_us, y_train_us = undersampler.fit_resample(X_train, y_train)\n",
    "\n",
    "print(\"Shape of the training set after undersampling:\", X_train_us.shape, y_train_us.shape)"
   ]
  },
  {
   "cell_type": "code",
   "execution_count": 23,
   "metadata": {},
   "outputs": [
    {
     "data": {
      "text/plain": [
       "loan_status\n",
       "0    4256\n",
       "1    4256\n",
       "Name: count, dtype: int64"
      ]
     },
     "execution_count": 23,
     "metadata": {},
     "output_type": "execute_result"
    }
   ],
   "source": [
    "pd.Series(y_train_us).value_counts()"
   ]
  },
  {
   "cell_type": "markdown",
   "metadata": {},
   "source": [
    "### 2.8: SMOTE"
   ]
  },
  {
   "cell_type": "code",
   "execution_count": 24,
   "metadata": {},
   "outputs": [
    {
     "name": "stdout",
     "output_type": "stream",
     "text": [
      "Shape of the training set after SMOTE: (30582, 17) (30582,)\n"
     ]
    }
   ],
   "source": [
    "from imblearn.over_sampling import SMOTE\n",
    "\n",
    "smote = SMOTE(random_state=42)\n",
    "X_train_smote, y_train_smote = smote.fit_resample(X_train, y_train)\n",
    "\n",
    "print(\"Shape of the training set after SMOTE:\", X_train_smote.shape, y_train_smote.shape)"
   ]
  },
  {
   "cell_type": "code",
   "execution_count": 25,
   "metadata": {},
   "outputs": [
    {
     "data": {
      "text/plain": [
       "loan_status\n",
       "0    15291\n",
       "1    15291\n",
       "Name: count, dtype: int64"
      ]
     },
     "execution_count": 25,
     "metadata": {},
     "output_type": "execute_result"
    }
   ],
   "source": [
    "pd.Series(y_train_smote).value_counts()"
   ]
  },
  {
   "cell_type": "markdown",
   "metadata": {},
   "source": [
    "# Chapter 3: Building Machine Learning Models"
   ]
  },
  {
   "cell_type": "code",
   "execution_count": 26,
   "metadata": {},
   "outputs": [],
   "source": [
    "from functions import evaluate_classifier"
   ]
  },
  {
   "cell_type": "markdown",
   "metadata": {},
   "source": [
    "### 3.1: Logistic Regression"
   ]
  },
  {
   "cell_type": "markdown",
   "metadata": {},
   "source": [
    "- Normal"
   ]
  },
  {
   "cell_type": "code",
   "execution_count": 27,
   "metadata": {},
   "outputs": [
    {
     "name": "stdout",
     "output_type": "stream",
     "text": [
      "----- Training Set -----\n",
      "              precision    recall  f1-score   support\n",
      "\n",
      "   Not Churn       0.87      0.95      0.91     15291\n",
      "       Churn       0.73      0.50      0.60      4256\n",
      "\n",
      "    accuracy                           0.85     19547\n",
      "   macro avg       0.80      0.73      0.75     19547\n",
      "weighted avg       0.84      0.85      0.84     19547\n",
      "\n",
      "AUC-ROC (Train): 0.8648304349258471\n",
      "\n",
      "\n",
      "----- Test Set -----\n",
      "              precision    recall  f1-score   support\n",
      "\n",
      "   Not Churn       0.88      0.95      0.91      5086\n",
      "       Churn       0.74      0.55      0.63      1430\n",
      "\n",
      "    accuracy                           0.86      6516\n",
      "   macro avg       0.81      0.75      0.77      6516\n",
      "weighted avg       0.85      0.86      0.85      6516\n",
      "\n",
      "AUC-ROC (Test): 0.8730881976851306\n"
     ]
    }
   ],
   "source": [
    "from sklearn.linear_model import LogisticRegression\n",
    "\n",
    "logreg_model = LogisticRegression(random_state=42)\n",
    "\n",
    "evaluate_classifier(X_train, y_train, X_val, y_val, model=logreg_model)"
   ]
  },
  {
   "cell_type": "markdown",
   "metadata": {},
   "source": [
    "- Undersampling"
   ]
  },
  {
   "cell_type": "code",
   "execution_count": 28,
   "metadata": {},
   "outputs": [
    {
     "name": "stdout",
     "output_type": "stream",
     "text": [
      "----- Training Set -----\n",
      "              precision    recall  f1-score   support\n",
      "\n",
      "   Not Churn       0.79      0.80      0.79      4256\n",
      "       Churn       0.79      0.79      0.79      4256\n",
      "\n",
      "    accuracy                           0.79      8512\n",
      "   macro avg       0.79      0.79      0.79      8512\n",
      "weighted avg       0.79      0.79      0.79      8512\n",
      "\n",
      "AUC-ROC (Train): 0.8684900065895471\n",
      "\n",
      "\n",
      "----- Test Set -----\n",
      "              precision    recall  f1-score   support\n",
      "\n",
      "   Not Churn       0.93      0.79      0.85      5086\n",
      "       Churn       0.51      0.80      0.62      1430\n",
      "\n",
      "    accuracy                           0.79      6516\n",
      "   macro avg       0.72      0.79      0.74      6516\n",
      "weighted avg       0.84      0.79      0.80      6516\n",
      "\n",
      "AUC-ROC (Test): 0.873659352837489\n"
     ]
    }
   ],
   "source": [
    "evaluate_classifier(X_train_us, y_train_us, X_val, y_val, model=logreg_model)"
   ]
  },
  {
   "cell_type": "markdown",
   "metadata": {},
   "source": [
    "- SMOTE"
   ]
  },
  {
   "cell_type": "code",
   "execution_count": 29,
   "metadata": {},
   "outputs": [
    {
     "name": "stdout",
     "output_type": "stream",
     "text": [
      "----- Training Set -----\n",
      "              precision    recall  f1-score   support\n",
      "\n",
      "   Not Churn       0.79      0.80      0.80     15291\n",
      "       Churn       0.80      0.79      0.80     15291\n",
      "\n",
      "    accuracy                           0.80     30582\n",
      "   macro avg       0.80      0.80      0.80     30582\n",
      "weighted avg       0.80      0.80      0.80     30582\n",
      "\n",
      "AUC-ROC (Train): 0.8719880168687953\n",
      "\n",
      "\n",
      "----- Test Set -----\n",
      "              precision    recall  f1-score   support\n",
      "\n",
      "   Not Churn       0.93      0.80      0.86      5086\n",
      "       Churn       0.52      0.79      0.63      1430\n",
      "\n",
      "    accuracy                           0.79      6516\n",
      "   macro avg       0.73      0.79      0.74      6516\n",
      "weighted avg       0.84      0.79      0.81      6516\n",
      "\n",
      "AUC-ROC (Test): 0.8739507052129939\n"
     ]
    }
   ],
   "source": [
    "evaluate_classifier(X_train_smote, y_train_smote, X_val, y_val, model=logreg_model)"
   ]
  },
  {
   "cell_type": "markdown",
   "metadata": {},
   "source": [
    "### 3.2: Random Forest"
   ]
  },
  {
   "cell_type": "markdown",
   "metadata": {},
   "source": [
    "- Normal"
   ]
  },
  {
   "cell_type": "code",
   "execution_count": 30,
   "metadata": {},
   "outputs": [
    {
     "name": "stdout",
     "output_type": "stream",
     "text": [
      "----- Training Set -----\n",
      "              precision    recall  f1-score   support\n",
      "\n",
      "   Not Churn       1.00      1.00      1.00     15291\n",
      "       Churn       1.00      1.00      1.00      4256\n",
      "\n",
      "    accuracy                           1.00     19547\n",
      "   macro avg       1.00      1.00      1.00     19547\n",
      "weighted avg       1.00      1.00      1.00     19547\n",
      "\n",
      "AUC-ROC (Train): 1.0\n",
      "\n",
      "\n",
      "----- Test Set -----\n",
      "              precision    recall  f1-score   support\n",
      "\n",
      "   Not Churn       0.93      0.99      0.96      5086\n",
      "       Churn       0.96      0.73      0.83      1430\n",
      "\n",
      "    accuracy                           0.93      6516\n",
      "   macro avg       0.95      0.86      0.90      6516\n",
      "weighted avg       0.94      0.93      0.93      6516\n",
      "\n",
      "AUC-ROC (Test): 0.9359805746750302\n"
     ]
    }
   ],
   "source": [
    "from sklearn.ensemble import RandomForestClassifier\n",
    "\n",
    "rf_model = RandomForestClassifier(random_state=42, class_weight='balanced')\n",
    "\n",
    "evaluate_classifier(X_train, y_train, X_val, y_val, model=rf_model)"
   ]
  },
  {
   "cell_type": "markdown",
   "metadata": {},
   "source": [
    "- Undersampling"
   ]
  },
  {
   "cell_type": "code",
   "execution_count": 31,
   "metadata": {},
   "outputs": [
    {
     "name": "stdout",
     "output_type": "stream",
     "text": [
      "----- Training Set -----\n",
      "              precision    recall  f1-score   support\n",
      "\n",
      "   Not Churn       1.00      1.00      1.00      4256\n",
      "       Churn       1.00      1.00      1.00      4256\n",
      "\n",
      "    accuracy                           1.00      8512\n",
      "   macro avg       1.00      1.00      1.00      8512\n",
      "weighted avg       1.00      1.00      1.00      8512\n",
      "\n",
      "AUC-ROC (Train): 1.0\n",
      "\n",
      "\n",
      "----- Test Set -----\n",
      "              precision    recall  f1-score   support\n",
      "\n",
      "   Not Churn       0.95      0.91      0.93      5086\n",
      "       Churn       0.71      0.82      0.76      1430\n",
      "\n",
      "    accuracy                           0.89      6516\n",
      "   macro avg       0.83      0.86      0.85      6516\n",
      "weighted avg       0.90      0.89      0.89      6516\n",
      "\n",
      "AUC-ROC (Test): 0.9311540111481125\n"
     ]
    }
   ],
   "source": [
    "rf_model2 = RandomForestClassifier(random_state=42)\n",
    "\n",
    "evaluate_classifier(X_train_us, y_train_us, X_val, y_val, model=rf_model2)"
   ]
  },
  {
   "cell_type": "markdown",
   "metadata": {},
   "source": [
    "- SMOTE"
   ]
  },
  {
   "cell_type": "code",
   "execution_count": 32,
   "metadata": {},
   "outputs": [
    {
     "name": "stdout",
     "output_type": "stream",
     "text": [
      "----- Training Set -----\n",
      "              precision    recall  f1-score   support\n",
      "\n",
      "   Not Churn       1.00      1.00      1.00     15291\n",
      "       Churn       1.00      1.00      1.00     15291\n",
      "\n",
      "    accuracy                           1.00     30582\n",
      "   macro avg       1.00      1.00      1.00     30582\n",
      "weighted avg       1.00      1.00      1.00     30582\n",
      "\n",
      "AUC-ROC (Train): 1.0\n",
      "\n",
      "\n",
      "----- Test Set -----\n",
      "              precision    recall  f1-score   support\n",
      "\n",
      "   Not Churn       0.93      0.98      0.96      5086\n",
      "       Churn       0.92      0.75      0.83      1430\n",
      "\n",
      "    accuracy                           0.93      6516\n",
      "   macro avg       0.93      0.87      0.89      6516\n",
      "weighted avg       0.93      0.93      0.93      6516\n",
      "\n",
      "AUC-ROC (Test): 0.9319103723645602\n"
     ]
    }
   ],
   "source": [
    "evaluate_classifier(X_train_smote, y_train_smote, X_val, y_val, model=rf_model2)"
   ]
  },
  {
   "cell_type": "markdown",
   "metadata": {},
   "source": [
    "### 3.3: XGBoost"
   ]
  },
  {
   "cell_type": "markdown",
   "metadata": {},
   "source": [
    "- Normal"
   ]
  },
  {
   "cell_type": "code",
   "execution_count": 33,
   "metadata": {},
   "outputs": [
    {
     "name": "stdout",
     "output_type": "stream",
     "text": [
      "----- Training Set -----\n",
      "              precision    recall  f1-score   support\n",
      "\n",
      "   Not Churn       0.95      1.00      0.98     15291\n",
      "       Churn       0.99      0.83      0.90      4256\n",
      "\n",
      "    accuracy                           0.96     19547\n",
      "   macro avg       0.97      0.91      0.94     19547\n",
      "weighted avg       0.96      0.96      0.96     19547\n",
      "\n",
      "AUC-ROC (Train): 0.9928318026894782\n",
      "\n",
      "\n",
      "----- Test Set -----\n",
      "              precision    recall  f1-score   support\n",
      "\n",
      "   Not Churn       0.93      0.99      0.96      5086\n",
      "       Churn       0.94      0.75      0.84      1430\n",
      "\n",
      "    accuracy                           0.94      6516\n",
      "   macro avg       0.94      0.87      0.90      6516\n",
      "weighted avg       0.94      0.94      0.93      6516\n",
      "\n",
      "AUC-ROC (Test): 0.9474626631724548\n"
     ]
    }
   ],
   "source": [
    "import xgboost as xgb\n",
    "\n",
    "xgb_model = xgb.XGBClassifier(random_state=42, use_label_encoder=False, eval_metric='logloss')\n",
    "\n",
    "evaluate_classifier(X_train, y_train, X_val, y_val, model=xgb_model)"
   ]
  },
  {
   "cell_type": "markdown",
   "metadata": {},
   "source": [
    "- Undersampling"
   ]
  },
  {
   "cell_type": "code",
   "execution_count": 34,
   "metadata": {},
   "outputs": [
    {
     "name": "stdout",
     "output_type": "stream",
     "text": [
      "----- Training Set -----\n",
      "              precision    recall  f1-score   support\n",
      "\n",
      "   Not Churn       0.95      0.99      0.97      4256\n",
      "       Churn       0.99      0.94      0.97      4256\n",
      "\n",
      "    accuracy                           0.97      8512\n",
      "   macro avg       0.97      0.97      0.97      8512\n",
      "weighted avg       0.97      0.97      0.97      8512\n",
      "\n",
      "AUC-ROC (Train): 0.9965589821887896\n",
      "\n",
      "\n",
      "----- Test Set -----\n",
      "              precision    recall  f1-score   support\n",
      "\n",
      "   Not Churn       0.95      0.90      0.93      5086\n",
      "       Churn       0.70      0.84      0.77      1430\n",
      "\n",
      "    accuracy                           0.89      6516\n",
      "   macro avg       0.83      0.87      0.85      6516\n",
      "weighted avg       0.90      0.89      0.89      6516\n",
      "\n",
      "AUC-ROC (Test): 0.9443911574072801\n"
     ]
    }
   ],
   "source": [
    "evaluate_classifier(X_train_us, y_train_us, X_val, y_val, model=xgb_model)"
   ]
  },
  {
   "cell_type": "markdown",
   "metadata": {},
   "source": [
    "- SMOTE"
   ]
  },
  {
   "cell_type": "code",
   "execution_count": 35,
   "metadata": {},
   "outputs": [
    {
     "name": "stdout",
     "output_type": "stream",
     "text": [
      "----- Training Set -----\n",
      "              precision    recall  f1-score   support\n",
      "\n",
      "   Not Churn       0.95      1.00      0.97     15291\n",
      "       Churn       1.00      0.95      0.97     15291\n",
      "\n",
      "    accuracy                           0.97     30582\n",
      "   macro avg       0.97      0.97      0.97     30582\n",
      "weighted avg       0.97      0.97      0.97     30582\n",
      "\n",
      "AUC-ROC (Train): 0.996805025258444\n",
      "\n",
      "\n",
      "----- Test Set -----\n",
      "              precision    recall  f1-score   support\n",
      "\n",
      "   Not Churn       0.94      0.99      0.96      5086\n",
      "       Churn       0.94      0.76      0.84      1430\n",
      "\n",
      "    accuracy                           0.94      6516\n",
      "   macro avg       0.94      0.87      0.90      6516\n",
      "weighted avg       0.94      0.94      0.93      6516\n",
      "\n",
      "AUC-ROC (Test): 0.9432338601233607\n"
     ]
    }
   ],
   "source": [
    "evaluate_classifier(X_train_smote, y_train_smote, X_val, y_val, model=xgb_model)"
   ]
  },
  {
   "cell_type": "markdown",
   "metadata": {},
   "source": [
    "### 3.4: Gradient Boosting"
   ]
  },
  {
   "cell_type": "markdown",
   "metadata": {},
   "source": [
    "- Normal"
   ]
  },
  {
   "cell_type": "code",
   "execution_count": 36,
   "metadata": {},
   "outputs": [
    {
     "name": "stdout",
     "output_type": "stream",
     "text": [
      "----- Training Set -----\n",
      "              precision    recall  f1-score   support\n",
      "\n",
      "   Not Churn       0.94      1.00      0.97     15291\n",
      "       Churn       0.99      0.77      0.87      4256\n",
      "\n",
      "    accuracy                           0.95     19547\n",
      "   macro avg       0.96      0.88      0.92     19547\n",
      "weighted avg       0.95      0.95      0.95     19547\n",
      "\n",
      "AUC-ROC (Train): 0.9738255168035843\n",
      "\n",
      "\n",
      "----- Test Set -----\n",
      "              precision    recall  f1-score   support\n",
      "\n",
      "   Not Churn       0.93      0.99      0.96      5086\n",
      "       Churn       0.95      0.75      0.84      1430\n",
      "\n",
      "    accuracy                           0.94      6516\n",
      "   macro avg       0.94      0.87      0.90      6516\n",
      "weighted avg       0.94      0.94      0.93      6516\n",
      "\n",
      "AUC-ROC (Test): 0.949376527915655\n"
     ]
    }
   ],
   "source": [
    "from sklearn.ensemble import GradientBoostingClassifier\n",
    "\n",
    "gb_model = GradientBoostingClassifier(learning_rate=0.1, max_depth=5, min_samples_leaf=1, min_samples_split=10, n_estimators=150, subsample=0.9, random_state=42)\n",
    "\n",
    "evaluate_classifier(X_train, y_train, X_val, y_val, model=gb_model)"
   ]
  },
  {
   "cell_type": "markdown",
   "metadata": {},
   "source": [
    "- Undersampling"
   ]
  },
  {
   "cell_type": "code",
   "execution_count": 37,
   "metadata": {},
   "outputs": [
    {
     "name": "stdout",
     "output_type": "stream",
     "text": [
      "----- Training Set -----\n",
      "              precision    recall  f1-score   support\n",
      "\n",
      "   Not Churn       0.89      0.97      0.93      4256\n",
      "       Churn       0.97      0.89      0.93      4256\n",
      "\n",
      "    accuracy                           0.93      8512\n",
      "   macro avg       0.93      0.93      0.93      8512\n",
      "weighted avg       0.93      0.93      0.93      8512\n",
      "\n",
      "AUC-ROC (Train): 0.9840328249547742\n",
      "\n",
      "\n",
      "----- Test Set -----\n",
      "              precision    recall  f1-score   support\n",
      "\n",
      "   Not Churn       0.95      0.91      0.93      5086\n",
      "       Churn       0.72      0.84      0.78      1430\n",
      "\n",
      "    accuracy                           0.89      6516\n",
      "   macro avg       0.84      0.87      0.85      6516\n",
      "weighted avg       0.90      0.89      0.90      6516\n",
      "\n",
      "AUC-ROC (Test): 0.9461009104933604\n"
     ]
    }
   ],
   "source": [
    "evaluate_classifier(X_train_us, y_train_us, X_val, y_val, model=gb_model)"
   ]
  },
  {
   "cell_type": "markdown",
   "metadata": {},
   "source": [
    "- SMOTE"
   ]
  },
  {
   "cell_type": "code",
   "execution_count": 38,
   "metadata": {},
   "outputs": [
    {
     "name": "stdout",
     "output_type": "stream",
     "text": [
      "----- Training Set -----\n",
      "              precision    recall  f1-score   support\n",
      "\n",
      "   Not Churn       0.93      0.99      0.96     15291\n",
      "       Churn       0.99      0.92      0.96     15291\n",
      "\n",
      "    accuracy                           0.96     30582\n",
      "   macro avg       0.96      0.96      0.96     30582\n",
      "weighted avg       0.96      0.96      0.96     30582\n",
      "\n",
      "AUC-ROC (Train): 0.9890149412816385\n",
      "\n",
      "\n",
      "----- Test Set -----\n",
      "              precision    recall  f1-score   support\n",
      "\n",
      "   Not Churn       0.93      0.99      0.96      5086\n",
      "       Churn       0.95      0.75      0.84      1430\n",
      "\n",
      "    accuracy                           0.94      6516\n",
      "   macro avg       0.94      0.87      0.90      6516\n",
      "weighted avg       0.94      0.94      0.93      6516\n",
      "\n",
      "AUC-ROC (Test): 0.9371690833743527\n"
     ]
    }
   ],
   "source": [
    "evaluate_classifier(X_train_smote, y_train_smote, X_val, y_val, model=gb_model)"
   ]
  },
  {
   "cell_type": "markdown",
   "metadata": {},
   "source": [
    "### 3.5: Support Vector Classifier (SVC)"
   ]
  },
  {
   "cell_type": "code",
   "execution_count": 39,
   "metadata": {},
   "outputs": [
    {
     "name": "stdout",
     "output_type": "stream",
     "text": [
      "Classification Report:\n",
      "\n",
      "              precision    recall  f1-score   support\n",
      "\n",
      "           0       0.91      0.98      0.95      5086\n",
      "           1       0.91      0.67      0.78      1430\n",
      "\n",
      "    accuracy                           0.91      6516\n",
      "   macro avg       0.91      0.83      0.86      6516\n",
      "weighted avg       0.91      0.91      0.91      6516\n",
      "\n",
      "AUC-ROC Score: 0.894397757177938\n"
     ]
    }
   ],
   "source": [
    "from sklearn.svm import SVC\n",
    "from sklearn.metrics import classification_report, roc_auc_score\n",
    "\n",
    "svm_model = SVC(random_state=42, probability=True)\n",
    "\n",
    "svm_model.fit(X_train, y_train)\n",
    "\n",
    "y_pred = svm_model.predict(X_val)\n",
    "y_proba = svm_model.predict_proba(X_val)[:, 1] \n",
    "\n",
    "print(\"Classification Report:\\n\")\n",
    "print(classification_report(y_val, y_pred))\n",
    "\n",
    "roc_auc = roc_auc_score(y_val, y_proba)\n",
    "print(\"AUC-ROC Score:\", roc_auc)"
   ]
  },
  {
   "cell_type": "markdown",
   "metadata": {},
   "source": [
    "### 3.6: K-Nearest Neighbors (KNN)"
   ]
  },
  {
   "cell_type": "markdown",
   "metadata": {},
   "source": [
    "- Normal"
   ]
  },
  {
   "cell_type": "code",
   "execution_count": 40,
   "metadata": {},
   "outputs": [
    {
     "name": "stdout",
     "output_type": "stream",
     "text": [
      "----- Training Set -----\n",
      "              precision    recall  f1-score   support\n",
      "\n",
      "   Not Churn       1.00      1.00      1.00     15291\n",
      "       Churn       1.00      1.00      1.00      4256\n",
      "\n",
      "    accuracy                           1.00     19547\n",
      "   macro avg       1.00      1.00      1.00     19547\n",
      "weighted avg       1.00      1.00      1.00     19547\n",
      "\n",
      "AUC-ROC (Train): 1.0\n",
      "\n",
      "\n",
      "----- Test Set -----\n",
      "              precision    recall  f1-score   support\n",
      "\n",
      "   Not Churn       0.91      0.97      0.94      5086\n",
      "       Churn       0.86      0.65      0.74      1430\n",
      "\n",
      "    accuracy                           0.90      6516\n",
      "   macro avg       0.88      0.81      0.84      6516\n",
      "weighted avg       0.90      0.90      0.89      6516\n",
      "\n",
      "AUC-ROC (Test): 0.8946910344865515\n"
     ]
    }
   ],
   "source": [
    "from sklearn.neighbors import KNeighborsClassifier\n",
    "\n",
    "# Initialize the KNN model.\n",
    "knn_model = KNeighborsClassifier(metric= 'manhattan', n_neighbors=9, weights='distance')\n",
    "\n",
    "evaluate_classifier(X_train, y_train,  X_val, y_val, model=knn_model)"
   ]
  },
  {
   "cell_type": "markdown",
   "metadata": {},
   "source": [
    "- Undersampling"
   ]
  },
  {
   "cell_type": "code",
   "execution_count": 41,
   "metadata": {},
   "outputs": [
    {
     "name": "stdout",
     "output_type": "stream",
     "text": [
      "----- Training Set -----\n",
      "              precision    recall  f1-score   support\n",
      "\n",
      "   Not Churn       1.00      1.00      1.00      4256\n",
      "       Churn       1.00      1.00      1.00      4256\n",
      "\n",
      "    accuracy                           1.00      8512\n",
      "   macro avg       1.00      1.00      1.00      8512\n",
      "weighted avg       1.00      1.00      1.00      8512\n",
      "\n",
      "AUC-ROC (Train): 1.0\n",
      "\n",
      "\n",
      "----- Test Set -----\n",
      "              precision    recall  f1-score   support\n",
      "\n",
      "   Not Churn       0.94      0.83      0.88      5086\n",
      "       Churn       0.58      0.81      0.67      1430\n",
      "\n",
      "    accuracy                           0.83      6516\n",
      "   macro avg       0.76      0.82      0.78      6516\n",
      "weighted avg       0.86      0.83      0.84      6516\n",
      "\n",
      "AUC-ROC (Test): 0.896766593610872\n"
     ]
    }
   ],
   "source": [
    "evaluate_classifier(X_train_us, y_train_us,  X_val, y_val, model=knn_model)"
   ]
  },
  {
   "cell_type": "markdown",
   "metadata": {},
   "source": [
    "- SMOTE"
   ]
  },
  {
   "cell_type": "code",
   "execution_count": 42,
   "metadata": {},
   "outputs": [
    {
     "name": "stdout",
     "output_type": "stream",
     "text": [
      "----- Training Set -----\n",
      "              precision    recall  f1-score   support\n",
      "\n",
      "   Not Churn       1.00      1.00      1.00     15291\n",
      "       Churn       1.00      1.00      1.00     15291\n",
      "\n",
      "    accuracy                           1.00     30582\n",
      "   macro avg       1.00      1.00      1.00     30582\n",
      "weighted avg       1.00      1.00      1.00     30582\n",
      "\n",
      "AUC-ROC (Train): 1.0\n",
      "\n",
      "\n",
      "----- Test Set -----\n",
      "              precision    recall  f1-score   support\n",
      "\n",
      "   Not Churn       0.93      0.85      0.89      5086\n",
      "       Churn       0.59      0.79      0.68      1430\n",
      "\n",
      "    accuracy                           0.84      6516\n",
      "   macro avg       0.76      0.82      0.78      6516\n",
      "weighted avg       0.86      0.84      0.84      6516\n",
      "\n",
      "AUC-ROC (Test): 0.8886648938949372\n"
     ]
    }
   ],
   "source": [
    "evaluate_classifier(X_train_smote, y_train_smote,  X_val, y_val, model=knn_model)"
   ]
  },
  {
   "cell_type": "markdown",
   "metadata": {},
   "source": [
    "### 3.7: Neural Network"
   ]
  },
  {
   "cell_type": "markdown",
   "metadata": {},
   "source": [
    "- Normal"
   ]
  },
  {
   "cell_type": "code",
   "execution_count": 43,
   "metadata": {},
   "outputs": [
    {
     "name": "stdout",
     "output_type": "stream",
     "text": [
      "\u001b[1m204/204\u001b[0m \u001b[32m━━━━━━━━━━━━━━━━━━━━\u001b[0m\u001b[37m\u001b[0m \u001b[1m0s\u001b[0m 474us/step\n",
      "              precision    recall  f1-score   support\n",
      "\n",
      "           0       0.91      0.98      0.94      5086\n",
      "           1       0.91      0.65      0.76      1430\n",
      "\n",
      "    accuracy                           0.91      6516\n",
      "   macro avg       0.91      0.82      0.85      6516\n",
      "weighted avg       0.91      0.91      0.90      6516\n",
      "\n",
      "AUC-ROC: 0.9130632835508965\n"
     ]
    }
   ],
   "source": [
    "from functions import create_and_train_nn_model\n",
    "\n",
    "create_and_train_nn_model(X_train, y_train, X_val, y_val) "
   ]
  },
  {
   "cell_type": "markdown",
   "metadata": {},
   "source": [
    "- Undersampling"
   ]
  },
  {
   "cell_type": "code",
   "execution_count": 44,
   "metadata": {},
   "outputs": [
    {
     "name": "stdout",
     "output_type": "stream",
     "text": [
      "\u001b[1m204/204\u001b[0m \u001b[32m━━━━━━━━━━━━━━━━━━━━\u001b[0m\u001b[37m\u001b[0m \u001b[1m0s\u001b[0m 512us/step\n",
      "              precision    recall  f1-score   support\n",
      "\n",
      "           0       0.93      0.89      0.91      5086\n",
      "           1       0.66      0.75      0.70      1430\n",
      "\n",
      "    accuracy                           0.86      6516\n",
      "   macro avg       0.79      0.82      0.80      6516\n",
      "weighted avg       0.87      0.86      0.86      6516\n",
      "\n",
      "AUC-ROC: 0.903333984144051\n"
     ]
    }
   ],
   "source": [
    "create_and_train_nn_model(X_train_us, y_train_us, X_val, y_val) "
   ]
  },
  {
   "cell_type": "markdown",
   "metadata": {},
   "source": [
    "- SMOTE"
   ]
  },
  {
   "cell_type": "code",
   "execution_count": 45,
   "metadata": {},
   "outputs": [
    {
     "name": "stdout",
     "output_type": "stream",
     "text": [
      "\u001b[1m204/204\u001b[0m \u001b[32m━━━━━━━━━━━━━━━━━━━━\u001b[0m\u001b[37m\u001b[0m \u001b[1m0s\u001b[0m 531us/step\n",
      "              precision    recall  f1-score   support\n",
      "\n",
      "           0       0.92      0.96      0.94      5086\n",
      "           1       0.83      0.71      0.77      1430\n",
      "\n",
      "    accuracy                           0.90      6516\n",
      "   macro avg       0.88      0.84      0.85      6516\n",
      "weighted avg       0.90      0.90      0.90      6516\n",
      "\n",
      "AUC-ROC: 0.9161732192306319\n"
     ]
    }
   ],
   "source": [
    "create_and_train_nn_model(X_train_smote, y_train_smote, X_val, y_val) "
   ]
  },
  {
   "cell_type": "markdown",
   "metadata": {},
   "source": [
    "# Chapter 4: Model Testing and Conclusion\n",
    "\n",
    "#### We have reached the end of our project. Let's now take a look at our final conclusions!"
   ]
  },
  {
   "cell_type": "markdown",
   "metadata": {},
   "source": [
    "The Gradient Boosting model, trained on undersampled datasets, demonstrated superior efficacy in predicting loan approvals within the context of an imbalanced dataset"
   ]
  },
  {
   "cell_type": "markdown",
   "metadata": {},
   "source": [
    "### 4.1: Testing Model"
   ]
  },
  {
   "cell_type": "code",
   "execution_count": 46,
   "metadata": {},
   "outputs": [
    {
     "name": "stdout",
     "output_type": "stream",
     "text": [
      "----- Training Set -----\n",
      "              precision    recall  f1-score   support\n",
      "\n",
      "   Not Churn       0.89      0.97      0.93      4256\n",
      "       Churn       0.97      0.89      0.93      4256\n",
      "\n",
      "    accuracy                           0.93      8512\n",
      "   macro avg       0.93      0.93      0.93      8512\n",
      "weighted avg       0.93      0.93      0.93      8512\n",
      "\n",
      "AUC-ROC (Train): 0.9840328249547742\n",
      "\n",
      "\n",
      "----- Test Set -----\n",
      "              precision    recall  f1-score   support\n",
      "\n",
      "   Not Churn       0.94      0.91      0.93      5095\n",
      "       Churn       0.72      0.81      0.76      1421\n",
      "\n",
      "    accuracy                           0.89      6516\n",
      "   macro avg       0.83      0.86      0.84      6516\n",
      "weighted avg       0.90      0.89      0.89      6516\n",
      "\n",
      "AUC-ROC (Test): 0.9383920845249203\n"
     ]
    }
   ],
   "source": [
    "import pickle\n",
    "\n",
    "evaluate_classifier(X_train_us, y_train_us,  X_test, y_test, model=gb_model)\n",
    "\n",
    "with open('credit_gb_us.pkl', 'wb') as file:\n",
    "    pickle.dump(gb_model, file)"
   ]
  }
 ],
 "metadata": {
  "kernelspec": {
   "display_name": "Python 3",
   "language": "python",
   "name": "python3"
  },
  "language_info": {
   "codemirror_mode": {
    "name": "ipython",
    "version": 3
   },
   "file_extension": ".py",
   "mimetype": "text/x-python",
   "name": "python",
   "nbconvert_exporter": "python",
   "pygments_lexer": "ipython3",
   "version": "3.13.5"
  }
 },
 "nbformat": 4,
 "nbformat_minor": 2
}
