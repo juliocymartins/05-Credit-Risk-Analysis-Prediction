{
 "cells": [
  {
   "cell_type": "markdown",
   "metadata": {},
   "source": [
    "# Credit Risk Analysis Prediction\n",
    "\n",
    "Let's work with the 'Credit Risk Dataset' from Kaggle. In this project, we will analyze and preprocess the data from numerous individuals and construct machine learning models to determine whether loans will be granted or not. We will test the 'Neural Network', 'Gradient Boosting', 'Random Forest', 'SVM', 'KNN', and 'Logistic Regression' models.\n",
    "\n",
    "Dataset Link: https://www.kaggle.com/datasets/laotse/credit-risk-dataset"
   ]
  },
  {
   "cell_type": "markdown",
   "metadata": {},
   "source": [
    "# Summary\n",
    "\n",
    "### Chapter 1: Exploratory Analysis\n",
    "- 1.1: Importing Data and First Look\n",
    "- 1.2: Checking Null Values\n",
    "- 1.3: Checking Data Types\n",
    "- 1.4: Final Data Analysis\n",
    "- 1.5: Plotting Graphs\n",
    "\n",
    "### Chapter 2: Data Wrangling\n",
    "- 2.1: Missing Values\n",
    "- 2.2: Handling Outliers\n",
    "- 2.3: Handling Incorrect Data Types\n",
    "- 2.4: One Hot Encoding\n",
    "- 2.5: Standardization\n",
    "\n",
    "### Chapter 3: Building and Testing Machine Learning Models\n",
    "- 3.1: Splitting Data into Training and Testing Sets\n",
    "- 3.2: Logistic Regression\n",
    "- 3.3: Random Forest\n",
    "- 3.4: Gradient Boosting\n",
    "- 3.5: Support Vector Machine (SVM)\n",
    "- 3.6: K-Nearest Neighbors (KNN)\n",
    "- 3.7: Neural Network\n",
    "\n",
    "### Chapter 4: Conclusion"
   ]
  },
  {
   "cell_type": "markdown",
   "metadata": {},
   "source": [
    "# Chapter 1 - Exploratory and Statistical Analysis\n",
    "\n",
    "In this section, we take a close look at our data to understand what it can tell us. We start by summarizing the main features of the data and then use graphs and charts to visualize it in a way that's easy to understand. By doing this, we hope to find any interesting patterns or trends that can guide us in our further analysis. This step is crucial for getting to know our data better before we dive into more advanced techniques."
   ]
  },
  {
   "cell_type": "code",
   "execution_count": 226,
   "metadata": {},
   "outputs": [],
   "source": [
    "# Let's start by importing the initial libraries needed to carry out our project.\n",
    "import pandas as pd\n",
    "import matplotlib.pyplot as plt\n",
    "import seaborn as sns\n",
    "# Eliminate the warnings. \n",
    "import warnings\n",
    "warnings.filterwarnings(\"ignore\")"
   ]
  },
  {
   "cell_type": "markdown",
   "metadata": {},
   "source": [
    "- Feature Name:\t                    Description\n",
    "- person_age:\t                    Age\n",
    "- person_income:\t                Annual Income\n",
    "- person_home_ownership:\t        Home ownership\n",
    "- person_emp_length:\t            Employment length (in years)\n",
    "- loan_intent:\t                    Loan intent\n",
    "- loan_grade:\t                    Loan grade\n",
    "- loan_amnt:\t                    Loan amount\n",
    "- loan_int_rate:\t                Interest rate\n",
    "- loan_status:\t                    Loan status (0 is non default 1 is default)\n",
    "- loan_percent_income:\t            Percent income\n",
    "- cb_person_default_on_file:\t    Historical default\n",
    "- cb_preson_cred_hist_length:\t    Credit history length"
   ]
  },
  {
   "cell_type": "markdown",
   "metadata": {},
   "source": [
    "\"loan_status\" is our target class.\n",
    "\n",
    "loan_status 0 = loan denied.\n",
    "\n",
    "loan_status 1 = loan approved."
   ]
  },
  {
   "cell_type": "markdown",
   "metadata": {},
   "source": [
    "### 1.1: Importing Data and First Look\n",
    "\n",
    "Let's start by importing our data from a '.csv' file using the Pandas library, so we can view our data and perform an initial analysis on it."
   ]
  },
  {
   "cell_type": "code",
   "execution_count": 227,
   "metadata": {},
   "outputs": [
    {
     "data": {
      "text/html": [
       "<div>\n",
       "<style scoped>\n",
       "    .dataframe tbody tr th:only-of-type {\n",
       "        vertical-align: middle;\n",
       "    }\n",
       "\n",
       "    .dataframe tbody tr th {\n",
       "        vertical-align: top;\n",
       "    }\n",
       "\n",
       "    .dataframe thead th {\n",
       "        text-align: right;\n",
       "    }\n",
       "</style>\n",
       "<table border=\"1\" class=\"dataframe\">\n",
       "  <thead>\n",
       "    <tr style=\"text-align: right;\">\n",
       "      <th></th>\n",
       "      <th>person_income</th>\n",
       "      <th>person_home_ownership</th>\n",
       "      <th>person_emp_length</th>\n",
       "      <th>loan_intent</th>\n",
       "      <th>loan_grade</th>\n",
       "      <th>loan_amnt</th>\n",
       "      <th>loan_int_rate</th>\n",
       "      <th>loan_status</th>\n",
       "      <th>loan_percent_income</th>\n",
       "      <th>cb_person_default_on_file</th>\n",
       "      <th>cb_person_cred_hist_length</th>\n",
       "    </tr>\n",
       "    <tr>\n",
       "      <th>person_age</th>\n",
       "      <th></th>\n",
       "      <th></th>\n",
       "      <th></th>\n",
       "      <th></th>\n",
       "      <th></th>\n",
       "      <th></th>\n",
       "      <th></th>\n",
       "      <th></th>\n",
       "      <th></th>\n",
       "      <th></th>\n",
       "      <th></th>\n",
       "    </tr>\n",
       "  </thead>\n",
       "  <tbody>\n",
       "    <tr>\n",
       "      <th>22</th>\n",
       "      <td>59000</td>\n",
       "      <td>RENT</td>\n",
       "      <td>123.0</td>\n",
       "      <td>PERSONAL</td>\n",
       "      <td>D</td>\n",
       "      <td>35000</td>\n",
       "      <td>16.02</td>\n",
       "      <td>1</td>\n",
       "      <td>0.59</td>\n",
       "      <td>Y</td>\n",
       "      <td>3</td>\n",
       "    </tr>\n",
       "    <tr>\n",
       "      <th>21</th>\n",
       "      <td>9600</td>\n",
       "      <td>OWN</td>\n",
       "      <td>5.0</td>\n",
       "      <td>EDUCATION</td>\n",
       "      <td>B</td>\n",
       "      <td>1000</td>\n",
       "      <td>11.14</td>\n",
       "      <td>0</td>\n",
       "      <td>0.10</td>\n",
       "      <td>N</td>\n",
       "      <td>2</td>\n",
       "    </tr>\n",
       "    <tr>\n",
       "      <th>25</th>\n",
       "      <td>9600</td>\n",
       "      <td>MORTGAGE</td>\n",
       "      <td>1.0</td>\n",
       "      <td>MEDICAL</td>\n",
       "      <td>C</td>\n",
       "      <td>5500</td>\n",
       "      <td>12.87</td>\n",
       "      <td>1</td>\n",
       "      <td>0.57</td>\n",
       "      <td>N</td>\n",
       "      <td>3</td>\n",
       "    </tr>\n",
       "    <tr>\n",
       "      <th>23</th>\n",
       "      <td>65500</td>\n",
       "      <td>RENT</td>\n",
       "      <td>4.0</td>\n",
       "      <td>MEDICAL</td>\n",
       "      <td>C</td>\n",
       "      <td>35000</td>\n",
       "      <td>15.23</td>\n",
       "      <td>1</td>\n",
       "      <td>0.53</td>\n",
       "      <td>N</td>\n",
       "      <td>2</td>\n",
       "    </tr>\n",
       "    <tr>\n",
       "      <th>24</th>\n",
       "      <td>54400</td>\n",
       "      <td>RENT</td>\n",
       "      <td>8.0</td>\n",
       "      <td>MEDICAL</td>\n",
       "      <td>C</td>\n",
       "      <td>35000</td>\n",
       "      <td>14.27</td>\n",
       "      <td>1</td>\n",
       "      <td>0.55</td>\n",
       "      <td>Y</td>\n",
       "      <td>4</td>\n",
       "    </tr>\n",
       "    <tr>\n",
       "      <th>...</th>\n",
       "      <td>...</td>\n",
       "      <td>...</td>\n",
       "      <td>...</td>\n",
       "      <td>...</td>\n",
       "      <td>...</td>\n",
       "      <td>...</td>\n",
       "      <td>...</td>\n",
       "      <td>...</td>\n",
       "      <td>...</td>\n",
       "      <td>...</td>\n",
       "      <td>...</td>\n",
       "    </tr>\n",
       "    <tr>\n",
       "      <th>57</th>\n",
       "      <td>53000</td>\n",
       "      <td>MORTGAGE</td>\n",
       "      <td>1.0</td>\n",
       "      <td>PERSONAL</td>\n",
       "      <td>C</td>\n",
       "      <td>5800</td>\n",
       "      <td>13.16</td>\n",
       "      <td>0</td>\n",
       "      <td>0.11</td>\n",
       "      <td>N</td>\n",
       "      <td>30</td>\n",
       "    </tr>\n",
       "    <tr>\n",
       "      <th>54</th>\n",
       "      <td>120000</td>\n",
       "      <td>MORTGAGE</td>\n",
       "      <td>4.0</td>\n",
       "      <td>PERSONAL</td>\n",
       "      <td>A</td>\n",
       "      <td>17625</td>\n",
       "      <td>7.49</td>\n",
       "      <td>0</td>\n",
       "      <td>0.15</td>\n",
       "      <td>N</td>\n",
       "      <td>19</td>\n",
       "    </tr>\n",
       "    <tr>\n",
       "      <th>65</th>\n",
       "      <td>76000</td>\n",
       "      <td>RENT</td>\n",
       "      <td>3.0</td>\n",
       "      <td>HOMEIMPROVEMENT</td>\n",
       "      <td>B</td>\n",
       "      <td>35000</td>\n",
       "      <td>10.99</td>\n",
       "      <td>1</td>\n",
       "      <td>0.46</td>\n",
       "      <td>N</td>\n",
       "      <td>28</td>\n",
       "    </tr>\n",
       "    <tr>\n",
       "      <th>56</th>\n",
       "      <td>150000</td>\n",
       "      <td>MORTGAGE</td>\n",
       "      <td>5.0</td>\n",
       "      <td>PERSONAL</td>\n",
       "      <td>B</td>\n",
       "      <td>15000</td>\n",
       "      <td>11.48</td>\n",
       "      <td>0</td>\n",
       "      <td>0.10</td>\n",
       "      <td>N</td>\n",
       "      <td>26</td>\n",
       "    </tr>\n",
       "    <tr>\n",
       "      <th>66</th>\n",
       "      <td>42000</td>\n",
       "      <td>RENT</td>\n",
       "      <td>2.0</td>\n",
       "      <td>MEDICAL</td>\n",
       "      <td>B</td>\n",
       "      <td>6475</td>\n",
       "      <td>9.99</td>\n",
       "      <td>0</td>\n",
       "      <td>0.15</td>\n",
       "      <td>N</td>\n",
       "      <td>30</td>\n",
       "    </tr>\n",
       "  </tbody>\n",
       "</table>\n",
       "<p>32581 rows × 11 columns</p>\n",
       "</div>"
      ],
      "text/plain": [
       "            person_income person_home_ownership  person_emp_length  \\\n",
       "person_age                                                           \n",
       "22                  59000                  RENT              123.0   \n",
       "21                   9600                   OWN                5.0   \n",
       "25                   9600              MORTGAGE                1.0   \n",
       "23                  65500                  RENT                4.0   \n",
       "24                  54400                  RENT                8.0   \n",
       "...                   ...                   ...                ...   \n",
       "57                  53000              MORTGAGE                1.0   \n",
       "54                 120000              MORTGAGE                4.0   \n",
       "65                  76000                  RENT                3.0   \n",
       "56                 150000              MORTGAGE                5.0   \n",
       "66                  42000                  RENT                2.0   \n",
       "\n",
       "                loan_intent loan_grade  loan_amnt  loan_int_rate  loan_status  \\\n",
       "person_age                                                                      \n",
       "22                 PERSONAL          D      35000          16.02            1   \n",
       "21                EDUCATION          B       1000          11.14            0   \n",
       "25                  MEDICAL          C       5500          12.87            1   \n",
       "23                  MEDICAL          C      35000          15.23            1   \n",
       "24                  MEDICAL          C      35000          14.27            1   \n",
       "...                     ...        ...        ...            ...          ...   \n",
       "57                 PERSONAL          C       5800          13.16            0   \n",
       "54                 PERSONAL          A      17625           7.49            0   \n",
       "65          HOMEIMPROVEMENT          B      35000          10.99            1   \n",
       "56                 PERSONAL          B      15000          11.48            0   \n",
       "66                  MEDICAL          B       6475           9.99            0   \n",
       "\n",
       "            loan_percent_income cb_person_default_on_file  \\\n",
       "person_age                                                  \n",
       "22                         0.59                         Y   \n",
       "21                         0.10                         N   \n",
       "25                         0.57                         N   \n",
       "23                         0.53                         N   \n",
       "24                         0.55                         Y   \n",
       "...                         ...                       ...   \n",
       "57                         0.11                         N   \n",
       "54                         0.15                         N   \n",
       "65                         0.46                         N   \n",
       "56                         0.10                         N   \n",
       "66                         0.15                         N   \n",
       "\n",
       "            cb_person_cred_hist_length  \n",
       "person_age                              \n",
       "22                                   3  \n",
       "21                                   2  \n",
       "25                                   3  \n",
       "23                                   2  \n",
       "24                                   4  \n",
       "...                                ...  \n",
       "57                                  30  \n",
       "54                                  19  \n",
       "65                                  28  \n",
       "56                                  26  \n",
       "66                                  30  \n",
       "\n",
       "[32581 rows x 11 columns]"
      ]
     },
     "execution_count": 227,
     "metadata": {},
     "output_type": "execute_result"
    }
   ],
   "source": [
    "# We will start by using the 'Pandas' library to read the 'credit_risk_dataset.csv' file.\n",
    "credit_df = pd.read_csv(\"credit_risk_dataset.csv\", index_col=0)\n",
    "\n",
    "# Let's view the first 5 and last 5 rows of the dataframe to check the data.\n",
    "credit_df"
   ]
  },
  {
   "cell_type": "code",
   "execution_count": 228,
   "metadata": {},
   "outputs": [
    {
     "data": {
      "text/html": [
       "<div>\n",
       "<style scoped>\n",
       "    .dataframe tbody tr th:only-of-type {\n",
       "        vertical-align: middle;\n",
       "    }\n",
       "\n",
       "    .dataframe tbody tr th {\n",
       "        vertical-align: top;\n",
       "    }\n",
       "\n",
       "    .dataframe thead th {\n",
       "        text-align: right;\n",
       "    }\n",
       "</style>\n",
       "<table border=\"1\" class=\"dataframe\">\n",
       "  <thead>\n",
       "    <tr style=\"text-align: right;\">\n",
       "      <th></th>\n",
       "      <th>person_income</th>\n",
       "      <th>person_emp_length</th>\n",
       "      <th>loan_amnt</th>\n",
       "      <th>loan_int_rate</th>\n",
       "      <th>loan_status</th>\n",
       "      <th>loan_percent_income</th>\n",
       "      <th>cb_person_cred_hist_length</th>\n",
       "    </tr>\n",
       "  </thead>\n",
       "  <tbody>\n",
       "    <tr>\n",
       "      <th>count</th>\n",
       "      <td>3.258100e+04</td>\n",
       "      <td>31686.000000</td>\n",
       "      <td>32581.000000</td>\n",
       "      <td>29465.000000</td>\n",
       "      <td>32581.000000</td>\n",
       "      <td>32581.000000</td>\n",
       "      <td>32581.000000</td>\n",
       "    </tr>\n",
       "    <tr>\n",
       "      <th>mean</th>\n",
       "      <td>6.607485e+04</td>\n",
       "      <td>4.789686</td>\n",
       "      <td>9589.371106</td>\n",
       "      <td>11.011695</td>\n",
       "      <td>0.218164</td>\n",
       "      <td>0.170203</td>\n",
       "      <td>5.804211</td>\n",
       "    </tr>\n",
       "    <tr>\n",
       "      <th>std</th>\n",
       "      <td>6.198312e+04</td>\n",
       "      <td>4.142630</td>\n",
       "      <td>6322.086646</td>\n",
       "      <td>3.240459</td>\n",
       "      <td>0.413006</td>\n",
       "      <td>0.106782</td>\n",
       "      <td>4.055001</td>\n",
       "    </tr>\n",
       "    <tr>\n",
       "      <th>min</th>\n",
       "      <td>4.000000e+03</td>\n",
       "      <td>0.000000</td>\n",
       "      <td>500.000000</td>\n",
       "      <td>5.420000</td>\n",
       "      <td>0.000000</td>\n",
       "      <td>0.000000</td>\n",
       "      <td>2.000000</td>\n",
       "    </tr>\n",
       "    <tr>\n",
       "      <th>25%</th>\n",
       "      <td>3.850000e+04</td>\n",
       "      <td>2.000000</td>\n",
       "      <td>5000.000000</td>\n",
       "      <td>7.900000</td>\n",
       "      <td>0.000000</td>\n",
       "      <td>0.090000</td>\n",
       "      <td>3.000000</td>\n",
       "    </tr>\n",
       "    <tr>\n",
       "      <th>50%</th>\n",
       "      <td>5.500000e+04</td>\n",
       "      <td>4.000000</td>\n",
       "      <td>8000.000000</td>\n",
       "      <td>10.990000</td>\n",
       "      <td>0.000000</td>\n",
       "      <td>0.150000</td>\n",
       "      <td>4.000000</td>\n",
       "    </tr>\n",
       "    <tr>\n",
       "      <th>75%</th>\n",
       "      <td>7.920000e+04</td>\n",
       "      <td>7.000000</td>\n",
       "      <td>12200.000000</td>\n",
       "      <td>13.470000</td>\n",
       "      <td>0.000000</td>\n",
       "      <td>0.230000</td>\n",
       "      <td>8.000000</td>\n",
       "    </tr>\n",
       "    <tr>\n",
       "      <th>max</th>\n",
       "      <td>6.000000e+06</td>\n",
       "      <td>123.000000</td>\n",
       "      <td>35000.000000</td>\n",
       "      <td>23.220000</td>\n",
       "      <td>1.000000</td>\n",
       "      <td>0.830000</td>\n",
       "      <td>30.000000</td>\n",
       "    </tr>\n",
       "  </tbody>\n",
       "</table>\n",
       "</div>"
      ],
      "text/plain": [
       "       person_income  person_emp_length     loan_amnt  loan_int_rate  \\\n",
       "count   3.258100e+04       31686.000000  32581.000000   29465.000000   \n",
       "mean    6.607485e+04           4.789686   9589.371106      11.011695   \n",
       "std     6.198312e+04           4.142630   6322.086646       3.240459   \n",
       "min     4.000000e+03           0.000000    500.000000       5.420000   \n",
       "25%     3.850000e+04           2.000000   5000.000000       7.900000   \n",
       "50%     5.500000e+04           4.000000   8000.000000      10.990000   \n",
       "75%     7.920000e+04           7.000000  12200.000000      13.470000   \n",
       "max     6.000000e+06         123.000000  35000.000000      23.220000   \n",
       "\n",
       "        loan_status  loan_percent_income  cb_person_cred_hist_length  \n",
       "count  32581.000000         32581.000000                32581.000000  \n",
       "mean       0.218164             0.170203                    5.804211  \n",
       "std        0.413006             0.106782                    4.055001  \n",
       "min        0.000000             0.000000                    2.000000  \n",
       "25%        0.000000             0.090000                    3.000000  \n",
       "50%        0.000000             0.150000                    4.000000  \n",
       "75%        0.000000             0.230000                    8.000000  \n",
       "max        1.000000             0.830000                   30.000000  "
      ]
     },
     "execution_count": 228,
     "metadata": {},
     "output_type": "execute_result"
    }
   ],
   "source": [
    "# Here, we'll use the 'describe()' method to check some descriptive statistics about the numeric columns of the dataframe 'credit_df'.\n",
    "credit_df.describe() "
   ]
  },
  {
   "cell_type": "code",
   "execution_count": 229,
   "metadata": {},
   "outputs": [
    {
     "data": {
      "text/plain": [
       "array([1, 0], dtype=int64)"
      ]
     },
     "execution_count": 229,
     "metadata": {},
     "output_type": "execute_result"
    }
   ],
   "source": [
    "credit_df['loan_status'].unique()"
   ]
  },
  {
   "cell_type": "code",
   "execution_count": 230,
   "metadata": {},
   "outputs": [
    {
     "name": "stdout",
     "output_type": "stream",
     "text": [
      "Quantity of 0s and 1s in the 'loan_status' class:\n",
      "loan_status\n",
      "0    25473\n",
      "1     7108\n",
      "Name: count, dtype: int64\n"
     ]
    }
   ],
   "source": [
    "# Check the quantity of 0s and 1s in the 'loan_status' column\n",
    "loan_status_counts = credit_df['loan_status'].value_counts()\n",
    "\n",
    "# Display the results\n",
    "print(\"Quantity of 0s and 1s in the 'loan_status' class:\")\n",
    "print(loan_status_counts)"
   ]
  },
  {
   "cell_type": "markdown",
   "metadata": {},
   "source": [
    "### 1.2: Checking Null Values\n",
    "\n",
    "We will use the 'isnull' and 'sum' methods to sum up the null values in each column."
   ]
  },
  {
   "cell_type": "code",
   "execution_count": 231,
   "metadata": {},
   "outputs": [
    {
     "data": {
      "text/plain": [
       "person_income                    0\n",
       "person_home_ownership            0\n",
       "person_emp_length              895\n",
       "loan_intent                      0\n",
       "loan_grade                       0\n",
       "loan_amnt                        0\n",
       "loan_int_rate                 3116\n",
       "loan_status                      0\n",
       "loan_percent_income              0\n",
       "cb_person_default_on_file        0\n",
       "cb_person_cred_hist_length       0\n",
       "dtype: int64"
      ]
     },
     "execution_count": 231,
     "metadata": {},
     "output_type": "execute_result"
    }
   ],
   "source": [
    "credit_df.isnull().sum()"
   ]
  },
  {
   "cell_type": "markdown",
   "metadata": {},
   "source": [
    "\"person_emp_length\" and \"loan_int_rate\" are the columns that has null values in our dataset. "
   ]
  },
  {
   "cell_type": "markdown",
   "metadata": {},
   "source": [
    "### 1.3: Checking Data Types\n",
    "\n",
    " We'll use the 'dtypes' attribute of the dataframe 'credit_df' to check the data types of each column."
   ]
  },
  {
   "cell_type": "code",
   "execution_count": 232,
   "metadata": {},
   "outputs": [
    {
     "data": {
      "text/plain": [
       "person_income                   int64\n",
       "person_home_ownership          object\n",
       "person_emp_length             float64\n",
       "loan_intent                    object\n",
       "loan_grade                     object\n",
       "loan_amnt                       int64\n",
       "loan_int_rate                 float64\n",
       "loan_status                     int64\n",
       "loan_percent_income           float64\n",
       "cb_person_default_on_file      object\n",
       "cb_person_cred_hist_length      int64\n",
       "dtype: object"
      ]
     },
     "execution_count": 232,
     "metadata": {},
     "output_type": "execute_result"
    }
   ],
   "source": [
    "credit_df.dtypes"
   ]
  },
  {
   "cell_type": "markdown",
   "metadata": {},
   "source": [
    "Check if the unique datas are correct in the 'cb_person_default_on_file' column."
   ]
  },
  {
   "cell_type": "code",
   "execution_count": 233,
   "metadata": {},
   "outputs": [
    {
     "data": {
      "text/plain": [
       "array(['Y', 'N'], dtype=object)"
      ]
     },
     "execution_count": 233,
     "metadata": {},
     "output_type": "execute_result"
    }
   ],
   "source": [
    "credit_df['cb_person_default_on_file'].unique()"
   ]
  },
  {
   "cell_type": "markdown",
   "metadata": {},
   "source": [
    "The 'cb_person_default_on_file' column has only two types of entries: 'Y' for 'Yes' and 'N' for 'No'. \n",
    "\n",
    "Let's transform it further into the 'Boolean' format to better suit machine learning models."
   ]
  },
  {
   "cell_type": "markdown",
   "metadata": {},
   "source": [
    "### 1.4: Final Data Analysis."
   ]
  },
  {
   "cell_type": "code",
   "execution_count": 234,
   "metadata": {},
   "outputs": [
    {
     "data": {
      "text/plain": [
       "array(['RENT', 'OWN', 'MORTGAGE', 'OTHER'], dtype=object)"
      ]
     },
     "execution_count": 234,
     "metadata": {},
     "output_type": "execute_result"
    }
   ],
   "source": [
    "# Verificar os valores únicos em person_home_ownership.\n",
    "credit_df['person_home_ownership'].unique()"
   ]
  },
  {
   "cell_type": "code",
   "execution_count": 235,
   "metadata": {},
   "outputs": [
    {
     "data": {
      "text/plain": [
       "array(['PERSONAL', 'EDUCATION', 'MEDICAL', 'VENTURE', 'HOMEIMPROVEMENT',\n",
       "       'DEBTCONSOLIDATION'], dtype=object)"
      ]
     },
     "execution_count": 235,
     "metadata": {},
     "output_type": "execute_result"
    }
   ],
   "source": [
    "# Checking the unique values in loan_intent.\n",
    "credit_df['loan_intent'].unique()"
   ]
  },
  {
   "cell_type": "code",
   "execution_count": 236,
   "metadata": {},
   "outputs": [
    {
     "data": {
      "text/plain": [
       "array(['D', 'B', 'C', 'A', 'E', 'F', 'G'], dtype=object)"
      ]
     },
     "execution_count": 236,
     "metadata": {},
     "output_type": "execute_result"
    }
   ],
   "source": [
    "# Checking the unique values in loan_grade.\n",
    "credit_df['loan_grade'].unique()"
   ]
  },
  {
   "cell_type": "markdown",
   "metadata": {},
   "source": [
    "### 1.5: Plotting Graphs"
   ]
  },
  {
   "cell_type": "code",
   "execution_count": 237,
   "metadata": {},
   "outputs": [
    {
     "data": {
      "image/png": "[encoded data removed]",
      "text/plain": [
       "<Figure size 1000x600 with 1 Axes>"
      ]
     },
     "metadata": {},
     "output_type": "display_data"
    }
   ],
   "source": [
    "# Define a color palette using the seaborn color_palette() function\n",
    "colors = sns.color_palette(\"RdBu\", n_colors=2)\n",
    "\n",
    "# Creating the histogram\n",
    "plt.figure(figsize=(10, 6))\n",
    "n, bins, _ = plt.hist(credit_df['person_emp_length'].dropna(), bins=30, edgecolor='black', color=colors[0])  # Using the first color from the palette\n",
    "\n",
    "# Adding specific numbers over the bars\n",
    "for count, value in zip(n, bins[:-1]):\n",
    "    if count > 0:\n",
    "        plt.text(value + (bins[1] - bins[0]) / 2, count, str(int(count)), ha='center', va='bottom')\n",
    "\n",
    "# Setting the title and axis labels\n",
    "plt.title('Histogram of Employment Length')\n",
    "plt.xlabel('Employment Length (in years)')\n",
    "plt.ylabel('Frequency')\n",
    "\n",
    "# # Save the plot as an image file (e.g., PNG)\n",
    "# plt.savefig('employment_plot.png', bbox_inches='tight')\n",
    "\n",
    "# Displaying the histogram\n",
    "plt.show()"
   ]
  },
  {
   "cell_type": "markdown",
   "metadata": {},
   "source": [
    "An outlier was detected above 120 and we will handle it in the next step."
   ]
  },
  {
   "cell_type": "code",
   "execution_count": 238,
   "metadata": {},
   "outputs": [
    {
     "data": {
      "image/png": "[encoded data removed]",
      "text/plain": [
       "<Figure size 640x480 with 1 Axes>"
      ]
     },
     "metadata": {},
     "output_type": "display_data"
    }
   ],
   "source": [
    "# Count of entries with value 0 and 1\n",
    "count_0 = credit_df['loan_status'].value_counts()[0]\n",
    "count_1 = credit_df['loan_status'].value_counts()[1]\n",
    "\n",
    "# # Defining colors\n",
    "# colors = ['tomato', 'steelblue']\n",
    "\n",
    "# Creating the bar plot with colors\n",
    "plt.bar(['Not Approved(0)', 'Approved(1)'], [count_0, count_1], color=colors)\n",
    "\n",
    "# Adding labels and title\n",
    "plt.xlabel('Loan Status')\n",
    "plt.ylabel('Count')\n",
    "plt.title('Comparison of Loan Status')\n",
    "\n",
    "# Adding counts above the bars\n",
    "for i, count in enumerate([count_0, count_1]):\n",
    "    plt.text(i, count, str(count), ha='center', va='bottom')\n",
    "\n",
    "# # Save the plot as an image file (e.g., PNG)\n",
    "# plt.savefig('loan_status_plot.png', bbox_inches='tight')\n",
    "\n",
    "# Displaying the plot\n",
    "plt.show()"
   ]
  },
  {
   "cell_type": "code",
   "execution_count": 239,
   "metadata": {},
   "outputs": [
    {
     "data": {
      "image/png": "[encoded data removed]",
      "text/plain": [
       "<Figure size 640x480 with 1 Axes>"
      ]
     },
     "metadata": {},
     "output_type": "display_data"
    }
   ],
   "source": [
    "# Calculating the percentage of entries with value 0 and 1\n",
    "percentage_0 = (credit_df['loan_status'].value_counts()[0] / len(credit_df)) * 100\n",
    "percentage_1 = (credit_df['loan_status'].value_counts()[1] / len(credit_df)) * 100\n",
    "\n",
    "# Creating the pie chart\n",
    "labels = ['Not Approved(0)', 'Approved(1)']\n",
    "sizes = [percentage_0, percentage_1]\n",
    "plt.pie(sizes, labels=labels, autopct='%1.1f%%', startangle=70, colors=colors)\n",
    "\n",
    "# Adding a title\n",
    "plt.title('Loan Status Distribution')\n",
    "\n",
    "# Displaying the plot\n",
    "plt.axis('equal')  # Equal aspect ratio ensures that pie is drawn as a circle.\n",
    "\n",
    "# # Save the plot as an image file (e.g., PNG)\n",
    "# plt.savefig('loan_distribution_plot.png', bbox_inches='tight')\n",
    "\n",
    "plt.show()"
   ]
  },
  {
   "cell_type": "markdown",
   "metadata": {},
   "source": [
    "# Chapter 2: Data Wrangling\n",
    "\n",
    "In this section, we roll up our sleeves and prepare our data for analysis. We clean, transform, and reshape the raw data into a format that's suitable for our needs. This involves handling missing values, removing duplicates, and standardizing formats. Our goal in this phase is to ensure that our data is reliable and consistent, setting a solid foundation for our future ML models. By processing the data effectively, we can maximize the accuracy and relevance of our insights, empowering us to make informed decisions based on trustworthy information."
   ]
  },
  {
   "cell_type": "markdown",
   "metadata": {},
   "source": [
    "### 2.1: Missing Values \n",
    "\n",
    "First of all, we'll handle the null values that we've found in our dataframe on the previous step. "
   ]
  },
  {
   "cell_type": "code",
   "execution_count": 240,
   "metadata": {},
   "outputs": [],
   "source": [
    "# Create a function to replace null values with the mean value of a specific column.\n",
    "def replace_nan_with_median(dataframe, column_name):\n",
    "    median_value = dataframe[column_name].median()\n",
    "    dataframe[column_name].fillna(median_value, inplace=True)"
   ]
  },
  {
   "cell_type": "code",
   "execution_count": 241,
   "metadata": {},
   "outputs": [
    {
     "data": {
      "text/plain": [
       "person_income                    0\n",
       "person_home_ownership            0\n",
       "person_emp_length                0\n",
       "loan_intent                      0\n",
       "loan_grade                       0\n",
       "loan_amnt                        0\n",
       "loan_int_rate                 3116\n",
       "loan_status                      0\n",
       "loan_percent_income              0\n",
       "cb_person_default_on_file        0\n",
       "cb_person_cred_hist_length       0\n",
       "dtype: int64"
      ]
     },
     "execution_count": 241,
     "metadata": {},
     "output_type": "execute_result"
    }
   ],
   "source": [
    "# Using the function to replace null values in 'person_emp_length'.\n",
    "replace_nan_with_median(credit_df, 'person_emp_length')\n",
    " \n",
    "# Check if the replacements were successful:\n",
    "credit_df.isnull().sum()"
   ]
  },
  {
   "cell_type": "code",
   "execution_count": 242,
   "metadata": {},
   "outputs": [
    {
     "data": {
      "text/plain": [
       "person_income                 0\n",
       "person_home_ownership         0\n",
       "person_emp_length             0\n",
       "loan_intent                   0\n",
       "loan_grade                    0\n",
       "loan_amnt                     0\n",
       "loan_int_rate                 0\n",
       "loan_status                   0\n",
       "loan_percent_income           0\n",
       "cb_person_default_on_file     0\n",
       "cb_person_cred_hist_length    0\n",
       "dtype: int64"
      ]
     },
     "execution_count": 242,
     "metadata": {},
     "output_type": "execute_result"
    }
   ],
   "source": [
    "# Using the function to replace blank values in 'loan_int_rate'.\n",
    "replace_nan_with_median(credit_df, 'loan_int_rate')\n",
    "\n",
    "# Check if there are still blank values:\n",
    "credit_df.isnull().sum()"
   ]
  },
  {
   "cell_type": "markdown",
   "metadata": {},
   "source": [
    "### 2.2: Handling Outliers\n",
    "\n",
    "Since it's impossible for a human to be employed for over 120 years, we've decided to remove the outlier that we've found in the previous step."
   ]
  },
  {
   "cell_type": "code",
   "execution_count": 243,
   "metadata": {},
   "outputs": [],
   "source": [
    "def remove_values_above_max(dataframe, column_name, max_value):\n",
    "    dataframe.drop(dataframe[dataframe[column_name] > max_value].index, inplace=True)"
   ]
  },
  {
   "cell_type": "code",
   "execution_count": 244,
   "metadata": {},
   "outputs": [
    {
     "data": {
      "text/plain": [
       "41.0"
      ]
     },
     "execution_count": 244,
     "metadata": {},
     "output_type": "execute_result"
    }
   ],
   "source": [
    "# Using the function to replace values greater than 120 in 'person_emp_length'.\n",
    "remove_values_above_max(credit_df, 'person_emp_length', 120)\n",
    "\n",
    "# Check if the values were removed correctly\n",
    "# Here we'll verify the maximum value of this column.\n",
    "credit_df['person_emp_length'].max()"
   ]
  },
  {
   "cell_type": "markdown",
   "metadata": {},
   "source": [
    "### 2.3: Handling Incorrect Data Types\n",
    "\n",
    "Now we will handle the incorrect data types in our dataframe."
   ]
  },
  {
   "cell_type": "code",
   "execution_count": 245,
   "metadata": {},
   "outputs": [],
   "source": [
    "def transform_values(dataframe, column_name, value_mapping):\n",
    "    dataframe[column_name] = dataframe[column_name].map(value_mapping)"
   ]
  },
  {
   "cell_type": "code",
   "execution_count": 246,
   "metadata": {},
   "outputs": [
    {
     "data": {
      "text/plain": [
       "array([False,  True])"
      ]
     },
     "execution_count": 246,
     "metadata": {},
     "output_type": "execute_result"
    }
   ],
   "source": [
    "# Using the function to transform 'Y' into True and 'N' into False in 'cb_person_default_on_file'.\n",
    "transform_values(credit_df, 'cb_person_default_on_file', {'Y': True, 'N': False})\n",
    "\n",
    "# Checking if the transformation was applied correctly.\n",
    "credit_df['cb_person_default_on_file'].unique()"
   ]
  },
  {
   "cell_type": "markdown",
   "metadata": {},
   "source": [
    "The code evaluates whether each value of the column is equal to 'Y'. The result will be True or False."
   ]
  },
  {
   "cell_type": "code",
   "execution_count": 247,
   "metadata": {},
   "outputs": [
    {
     "data": {
      "text/html": [
       "<div>\n",
       "<style scoped>\n",
       "    .dataframe tbody tr th:only-of-type {\n",
       "        vertical-align: middle;\n",
       "    }\n",
       "\n",
       "    .dataframe tbody tr th {\n",
       "        vertical-align: top;\n",
       "    }\n",
       "\n",
       "    .dataframe thead th {\n",
       "        text-align: right;\n",
       "    }\n",
       "</style>\n",
       "<table border=\"1\" class=\"dataframe\">\n",
       "  <thead>\n",
       "    <tr style=\"text-align: right;\">\n",
       "      <th></th>\n",
       "      <th>person_income</th>\n",
       "      <th>person_home_ownership</th>\n",
       "      <th>person_emp_length</th>\n",
       "      <th>loan_intent</th>\n",
       "      <th>loan_grade</th>\n",
       "      <th>loan_amnt</th>\n",
       "      <th>loan_int_rate</th>\n",
       "      <th>loan_status</th>\n",
       "      <th>loan_percent_income</th>\n",
       "      <th>cb_person_default_on_file</th>\n",
       "      <th>cb_person_cred_hist_length</th>\n",
       "    </tr>\n",
       "    <tr>\n",
       "      <th>person_age</th>\n",
       "      <th></th>\n",
       "      <th></th>\n",
       "      <th></th>\n",
       "      <th></th>\n",
       "      <th></th>\n",
       "      <th></th>\n",
       "      <th></th>\n",
       "      <th></th>\n",
       "      <th></th>\n",
       "      <th></th>\n",
       "      <th></th>\n",
       "    </tr>\n",
       "  </thead>\n",
       "  <tbody>\n",
       "    <tr>\n",
       "      <th>25</th>\n",
       "      <td>9600</td>\n",
       "      <td>MORTGAGE</td>\n",
       "      <td>1.0</td>\n",
       "      <td>MEDICAL</td>\n",
       "      <td>C</td>\n",
       "      <td>5500</td>\n",
       "      <td>12.87</td>\n",
       "      <td>1</td>\n",
       "      <td>0.57</td>\n",
       "      <td>False</td>\n",
       "      <td>3</td>\n",
       "    </tr>\n",
       "    <tr>\n",
       "      <th>23</th>\n",
       "      <td>65500</td>\n",
       "      <td>RENT</td>\n",
       "      <td>4.0</td>\n",
       "      <td>MEDICAL</td>\n",
       "      <td>C</td>\n",
       "      <td>35000</td>\n",
       "      <td>15.23</td>\n",
       "      <td>1</td>\n",
       "      <td>0.53</td>\n",
       "      <td>False</td>\n",
       "      <td>2</td>\n",
       "    </tr>\n",
       "    <tr>\n",
       "      <th>24</th>\n",
       "      <td>54400</td>\n",
       "      <td>RENT</td>\n",
       "      <td>8.0</td>\n",
       "      <td>MEDICAL</td>\n",
       "      <td>C</td>\n",
       "      <td>35000</td>\n",
       "      <td>14.27</td>\n",
       "      <td>1</td>\n",
       "      <td>0.55</td>\n",
       "      <td>True</td>\n",
       "      <td>4</td>\n",
       "    </tr>\n",
       "    <tr>\n",
       "      <th>26</th>\n",
       "      <td>77100</td>\n",
       "      <td>RENT</td>\n",
       "      <td>8.0</td>\n",
       "      <td>EDUCATION</td>\n",
       "      <td>B</td>\n",
       "      <td>35000</td>\n",
       "      <td>12.42</td>\n",
       "      <td>1</td>\n",
       "      <td>0.45</td>\n",
       "      <td>False</td>\n",
       "      <td>3</td>\n",
       "    </tr>\n",
       "    <tr>\n",
       "      <th>24</th>\n",
       "      <td>78956</td>\n",
       "      <td>RENT</td>\n",
       "      <td>5.0</td>\n",
       "      <td>MEDICAL</td>\n",
       "      <td>B</td>\n",
       "      <td>35000</td>\n",
       "      <td>11.11</td>\n",
       "      <td>1</td>\n",
       "      <td>0.44</td>\n",
       "      <td>False</td>\n",
       "      <td>4</td>\n",
       "    </tr>\n",
       "  </tbody>\n",
       "</table>\n",
       "</div>"
      ],
      "text/plain": [
       "            person_income person_home_ownership  person_emp_length  \\\n",
       "person_age                                                           \n",
       "25                   9600              MORTGAGE                1.0   \n",
       "23                  65500                  RENT                4.0   \n",
       "24                  54400                  RENT                8.0   \n",
       "26                  77100                  RENT                8.0   \n",
       "24                  78956                  RENT                5.0   \n",
       "\n",
       "           loan_intent loan_grade  loan_amnt  loan_int_rate  loan_status  \\\n",
       "person_age                                                                 \n",
       "25             MEDICAL          C       5500          12.87            1   \n",
       "23             MEDICAL          C      35000          15.23            1   \n",
       "24             MEDICAL          C      35000          14.27            1   \n",
       "26           EDUCATION          B      35000          12.42            1   \n",
       "24             MEDICAL          B      35000          11.11            1   \n",
       "\n",
       "            loan_percent_income  cb_person_default_on_file  \\\n",
       "person_age                                                   \n",
       "25                         0.57                      False   \n",
       "23                         0.53                      False   \n",
       "24                         0.55                       True   \n",
       "26                         0.45                      False   \n",
       "24                         0.44                      False   \n",
       "\n",
       "            cb_person_cred_hist_length  \n",
       "person_age                              \n",
       "25                                   3  \n",
       "23                                   2  \n",
       "24                                   4  \n",
       "26                                   3  \n",
       "24                                   4  "
      ]
     },
     "execution_count": 247,
     "metadata": {},
     "output_type": "execute_result"
    }
   ],
   "source": [
    "# Once again, let's check how the first few rows of the dataframe look after the changes.\n",
    "credit_df.head()"
   ]
  },
  {
   "cell_type": "code",
   "execution_count": 248,
   "metadata": {},
   "outputs": [
    {
     "data": {
      "text/plain": [
       "person_income                   int64\n",
       "person_home_ownership          object\n",
       "person_emp_length             float64\n",
       "loan_intent                    object\n",
       "loan_grade                     object\n",
       "loan_amnt                       int64\n",
       "loan_int_rate                 float64\n",
       "loan_status                     int64\n",
       "loan_percent_income           float64\n",
       "cb_person_default_on_file        bool\n",
       "cb_person_cred_hist_length      int64\n",
       "dtype: object"
      ]
     },
     "execution_count": 248,
     "metadata": {},
     "output_type": "execute_result"
    }
   ],
   "source": [
    "# We will check if the data type in 'cb_person_default_on_file' has changed to boolean.\n",
    "credit_df.dtypes"
   ]
  },
  {
   "cell_type": "markdown",
   "metadata": {},
   "source": [
    "### 2.4: One Hot Encoding \n",
    "\n",
    "Applying One Hot Encoding to columns of type 'object'."
   ]
  },
  {
   "cell_type": "code",
   "execution_count": 249,
   "metadata": {},
   "outputs": [
    {
     "data": {
      "text/html": [
       "<div>\n",
       "<style scoped>\n",
       "    .dataframe tbody tr th:only-of-type {\n",
       "        vertical-align: middle;\n",
       "    }\n",
       "\n",
       "    .dataframe tbody tr th {\n",
       "        vertical-align: top;\n",
       "    }\n",
       "\n",
       "    .dataframe thead th {\n",
       "        text-align: right;\n",
       "    }\n",
       "</style>\n",
       "<table border=\"1\" class=\"dataframe\">\n",
       "  <thead>\n",
       "    <tr style=\"text-align: right;\">\n",
       "      <th></th>\n",
       "      <th>person_income</th>\n",
       "      <th>person_emp_length</th>\n",
       "      <th>loan_amnt</th>\n",
       "      <th>loan_int_rate</th>\n",
       "      <th>loan_status</th>\n",
       "      <th>loan_percent_income</th>\n",
       "      <th>cb_person_default_on_file</th>\n",
       "      <th>cb_person_cred_hist_length</th>\n",
       "      <th>person_home_ownership_MORTGAGE</th>\n",
       "      <th>person_home_ownership_OTHER</th>\n",
       "      <th>...</th>\n",
       "      <th>loan_intent_MEDICAL</th>\n",
       "      <th>loan_intent_PERSONAL</th>\n",
       "      <th>loan_intent_VENTURE</th>\n",
       "      <th>loan_grade_A</th>\n",
       "      <th>loan_grade_B</th>\n",
       "      <th>loan_grade_C</th>\n",
       "      <th>loan_grade_D</th>\n",
       "      <th>loan_grade_E</th>\n",
       "      <th>loan_grade_F</th>\n",
       "      <th>loan_grade_G</th>\n",
       "    </tr>\n",
       "    <tr>\n",
       "      <th>person_age</th>\n",
       "      <th></th>\n",
       "      <th></th>\n",
       "      <th></th>\n",
       "      <th></th>\n",
       "      <th></th>\n",
       "      <th></th>\n",
       "      <th></th>\n",
       "      <th></th>\n",
       "      <th></th>\n",
       "      <th></th>\n",
       "      <th></th>\n",
       "      <th></th>\n",
       "      <th></th>\n",
       "      <th></th>\n",
       "      <th></th>\n",
       "      <th></th>\n",
       "      <th></th>\n",
       "      <th></th>\n",
       "      <th></th>\n",
       "      <th></th>\n",
       "      <th></th>\n",
       "    </tr>\n",
       "  </thead>\n",
       "  <tbody>\n",
       "    <tr>\n",
       "      <th>25</th>\n",
       "      <td>9600</td>\n",
       "      <td>1.0</td>\n",
       "      <td>5500</td>\n",
       "      <td>12.87</td>\n",
       "      <td>1</td>\n",
       "      <td>0.57</td>\n",
       "      <td>False</td>\n",
       "      <td>3</td>\n",
       "      <td>True</td>\n",
       "      <td>False</td>\n",
       "      <td>...</td>\n",
       "      <td>True</td>\n",
       "      <td>False</td>\n",
       "      <td>False</td>\n",
       "      <td>False</td>\n",
       "      <td>False</td>\n",
       "      <td>True</td>\n",
       "      <td>False</td>\n",
       "      <td>False</td>\n",
       "      <td>False</td>\n",
       "      <td>False</td>\n",
       "    </tr>\n",
       "    <tr>\n",
       "      <th>23</th>\n",
       "      <td>65500</td>\n",
       "      <td>4.0</td>\n",
       "      <td>35000</td>\n",
       "      <td>15.23</td>\n",
       "      <td>1</td>\n",
       "      <td>0.53</td>\n",
       "      <td>False</td>\n",
       "      <td>2</td>\n",
       "      <td>False</td>\n",
       "      <td>False</td>\n",
       "      <td>...</td>\n",
       "      <td>True</td>\n",
       "      <td>False</td>\n",
       "      <td>False</td>\n",
       "      <td>False</td>\n",
       "      <td>False</td>\n",
       "      <td>True</td>\n",
       "      <td>False</td>\n",
       "      <td>False</td>\n",
       "      <td>False</td>\n",
       "      <td>False</td>\n",
       "    </tr>\n",
       "    <tr>\n",
       "      <th>24</th>\n",
       "      <td>54400</td>\n",
       "      <td>8.0</td>\n",
       "      <td>35000</td>\n",
       "      <td>14.27</td>\n",
       "      <td>1</td>\n",
       "      <td>0.55</td>\n",
       "      <td>True</td>\n",
       "      <td>4</td>\n",
       "      <td>False</td>\n",
       "      <td>False</td>\n",
       "      <td>...</td>\n",
       "      <td>True</td>\n",
       "      <td>False</td>\n",
       "      <td>False</td>\n",
       "      <td>False</td>\n",
       "      <td>False</td>\n",
       "      <td>True</td>\n",
       "      <td>False</td>\n",
       "      <td>False</td>\n",
       "      <td>False</td>\n",
       "      <td>False</td>\n",
       "    </tr>\n",
       "    <tr>\n",
       "      <th>26</th>\n",
       "      <td>77100</td>\n",
       "      <td>8.0</td>\n",
       "      <td>35000</td>\n",
       "      <td>12.42</td>\n",
       "      <td>1</td>\n",
       "      <td>0.45</td>\n",
       "      <td>False</td>\n",
       "      <td>3</td>\n",
       "      <td>False</td>\n",
       "      <td>False</td>\n",
       "      <td>...</td>\n",
       "      <td>False</td>\n",
       "      <td>False</td>\n",
       "      <td>False</td>\n",
       "      <td>False</td>\n",
       "      <td>True</td>\n",
       "      <td>False</td>\n",
       "      <td>False</td>\n",
       "      <td>False</td>\n",
       "      <td>False</td>\n",
       "      <td>False</td>\n",
       "    </tr>\n",
       "    <tr>\n",
       "      <th>24</th>\n",
       "      <td>78956</td>\n",
       "      <td>5.0</td>\n",
       "      <td>35000</td>\n",
       "      <td>11.11</td>\n",
       "      <td>1</td>\n",
       "      <td>0.44</td>\n",
       "      <td>False</td>\n",
       "      <td>4</td>\n",
       "      <td>False</td>\n",
       "      <td>False</td>\n",
       "      <td>...</td>\n",
       "      <td>True</td>\n",
       "      <td>False</td>\n",
       "      <td>False</td>\n",
       "      <td>False</td>\n",
       "      <td>True</td>\n",
       "      <td>False</td>\n",
       "      <td>False</td>\n",
       "      <td>False</td>\n",
       "      <td>False</td>\n",
       "      <td>False</td>\n",
       "    </tr>\n",
       "  </tbody>\n",
       "</table>\n",
       "<p>5 rows × 25 columns</p>\n",
       "</div>"
      ],
      "text/plain": [
       "            person_income  person_emp_length  loan_amnt  loan_int_rate  \\\n",
       "person_age                                                               \n",
       "25                   9600                1.0       5500          12.87   \n",
       "23                  65500                4.0      35000          15.23   \n",
       "24                  54400                8.0      35000          14.27   \n",
       "26                  77100                8.0      35000          12.42   \n",
       "24                  78956                5.0      35000          11.11   \n",
       "\n",
       "            loan_status  loan_percent_income  cb_person_default_on_file  \\\n",
       "person_age                                                                \n",
       "25                    1                 0.57                      False   \n",
       "23                    1                 0.53                      False   \n",
       "24                    1                 0.55                       True   \n",
       "26                    1                 0.45                      False   \n",
       "24                    1                 0.44                      False   \n",
       "\n",
       "            cb_person_cred_hist_length  person_home_ownership_MORTGAGE  \\\n",
       "person_age                                                               \n",
       "25                                   3                            True   \n",
       "23                                   2                           False   \n",
       "24                                   4                           False   \n",
       "26                                   3                           False   \n",
       "24                                   4                           False   \n",
       "\n",
       "            person_home_ownership_OTHER  ...  loan_intent_MEDICAL  \\\n",
       "person_age                               ...                        \n",
       "25                                False  ...                 True   \n",
       "23                                False  ...                 True   \n",
       "24                                False  ...                 True   \n",
       "26                                False  ...                False   \n",
       "24                                False  ...                 True   \n",
       "\n",
       "            loan_intent_PERSONAL  loan_intent_VENTURE  loan_grade_A  \\\n",
       "person_age                                                            \n",
       "25                         False                False         False   \n",
       "23                         False                False         False   \n",
       "24                         False                False         False   \n",
       "26                         False                False         False   \n",
       "24                         False                False         False   \n",
       "\n",
       "            loan_grade_B  loan_grade_C  loan_grade_D  loan_grade_E  \\\n",
       "person_age                                                           \n",
       "25                 False          True         False         False   \n",
       "23                 False          True         False         False   \n",
       "24                 False          True         False         False   \n",
       "26                  True         False         False         False   \n",
       "24                  True         False         False         False   \n",
       "\n",
       "            loan_grade_F  loan_grade_G  \n",
       "person_age                              \n",
       "25                 False         False  \n",
       "23                 False         False  \n",
       "24                 False         False  \n",
       "26                 False         False  \n",
       "24                 False         False  \n",
       "\n",
       "[5 rows x 25 columns]"
      ]
     },
     "execution_count": 249,
     "metadata": {},
     "output_type": "execute_result"
    }
   ],
   "source": [
    "# Selecting categorical columns to apply one-hot encoding.\n",
    "columns_to_encode = ['person_home_ownership', 'loan_intent', 'loan_grade']\n",
    "\n",
    "# Apply one-hot encoding\n",
    "credit_df = pd.get_dummies(credit_df, columns=columns_to_encode)\n",
    "credit_df.head()"
   ]
  },
  {
   "cell_type": "code",
   "execution_count": 250,
   "metadata": {},
   "outputs": [
    {
     "data": {
      "text/html": [
       "<div>\n",
       "<style scoped>\n",
       "    .dataframe tbody tr th:only-of-type {\n",
       "        vertical-align: middle;\n",
       "    }\n",
       "\n",
       "    .dataframe tbody tr th {\n",
       "        vertical-align: top;\n",
       "    }\n",
       "\n",
       "    .dataframe thead th {\n",
       "        text-align: right;\n",
       "    }\n",
       "</style>\n",
       "<table border=\"1\" class=\"dataframe\">\n",
       "  <thead>\n",
       "    <tr style=\"text-align: right;\">\n",
       "      <th></th>\n",
       "      <th>person_income</th>\n",
       "      <th>person_emp_length</th>\n",
       "      <th>loan_amnt</th>\n",
       "      <th>loan_int_rate</th>\n",
       "      <th>loan_status</th>\n",
       "      <th>loan_percent_income</th>\n",
       "      <th>cb_person_default_on_file</th>\n",
       "      <th>cb_person_cred_hist_length</th>\n",
       "      <th>person_home_ownership_MORTGAGE</th>\n",
       "      <th>person_home_ownership_OTHER</th>\n",
       "      <th>...</th>\n",
       "      <th>loan_intent_MEDICAL</th>\n",
       "      <th>loan_intent_PERSONAL</th>\n",
       "      <th>loan_intent_VENTURE</th>\n",
       "      <th>loan_grade_A</th>\n",
       "      <th>loan_grade_B</th>\n",
       "      <th>loan_grade_C</th>\n",
       "      <th>loan_grade_D</th>\n",
       "      <th>loan_grade_E</th>\n",
       "      <th>loan_grade_F</th>\n",
       "      <th>loan_grade_G</th>\n",
       "    </tr>\n",
       "    <tr>\n",
       "      <th>person_age</th>\n",
       "      <th></th>\n",
       "      <th></th>\n",
       "      <th></th>\n",
       "      <th></th>\n",
       "      <th></th>\n",
       "      <th></th>\n",
       "      <th></th>\n",
       "      <th></th>\n",
       "      <th></th>\n",
       "      <th></th>\n",
       "      <th></th>\n",
       "      <th></th>\n",
       "      <th></th>\n",
       "      <th></th>\n",
       "      <th></th>\n",
       "      <th></th>\n",
       "      <th></th>\n",
       "      <th></th>\n",
       "      <th></th>\n",
       "      <th></th>\n",
       "      <th></th>\n",
       "    </tr>\n",
       "  </thead>\n",
       "  <tbody>\n",
       "    <tr>\n",
       "      <th>25</th>\n",
       "      <td>9600</td>\n",
       "      <td>1.0</td>\n",
       "      <td>5500</td>\n",
       "      <td>12.87</td>\n",
       "      <td>1</td>\n",
       "      <td>0.57</td>\n",
       "      <td>False</td>\n",
       "      <td>3</td>\n",
       "      <td>True</td>\n",
       "      <td>False</td>\n",
       "      <td>...</td>\n",
       "      <td>True</td>\n",
       "      <td>False</td>\n",
       "      <td>False</td>\n",
       "      <td>False</td>\n",
       "      <td>False</td>\n",
       "      <td>True</td>\n",
       "      <td>False</td>\n",
       "      <td>False</td>\n",
       "      <td>False</td>\n",
       "      <td>False</td>\n",
       "    </tr>\n",
       "    <tr>\n",
       "      <th>23</th>\n",
       "      <td>65500</td>\n",
       "      <td>4.0</td>\n",
       "      <td>35000</td>\n",
       "      <td>15.23</td>\n",
       "      <td>1</td>\n",
       "      <td>0.53</td>\n",
       "      <td>False</td>\n",
       "      <td>2</td>\n",
       "      <td>False</td>\n",
       "      <td>False</td>\n",
       "      <td>...</td>\n",
       "      <td>True</td>\n",
       "      <td>False</td>\n",
       "      <td>False</td>\n",
       "      <td>False</td>\n",
       "      <td>False</td>\n",
       "      <td>True</td>\n",
       "      <td>False</td>\n",
       "      <td>False</td>\n",
       "      <td>False</td>\n",
       "      <td>False</td>\n",
       "    </tr>\n",
       "    <tr>\n",
       "      <th>24</th>\n",
       "      <td>54400</td>\n",
       "      <td>8.0</td>\n",
       "      <td>35000</td>\n",
       "      <td>14.27</td>\n",
       "      <td>1</td>\n",
       "      <td>0.55</td>\n",
       "      <td>True</td>\n",
       "      <td>4</td>\n",
       "      <td>False</td>\n",
       "      <td>False</td>\n",
       "      <td>...</td>\n",
       "      <td>True</td>\n",
       "      <td>False</td>\n",
       "      <td>False</td>\n",
       "      <td>False</td>\n",
       "      <td>False</td>\n",
       "      <td>True</td>\n",
       "      <td>False</td>\n",
       "      <td>False</td>\n",
       "      <td>False</td>\n",
       "      <td>False</td>\n",
       "    </tr>\n",
       "    <tr>\n",
       "      <th>26</th>\n",
       "      <td>77100</td>\n",
       "      <td>8.0</td>\n",
       "      <td>35000</td>\n",
       "      <td>12.42</td>\n",
       "      <td>1</td>\n",
       "      <td>0.45</td>\n",
       "      <td>False</td>\n",
       "      <td>3</td>\n",
       "      <td>False</td>\n",
       "      <td>False</td>\n",
       "      <td>...</td>\n",
       "      <td>False</td>\n",
       "      <td>False</td>\n",
       "      <td>False</td>\n",
       "      <td>False</td>\n",
       "      <td>True</td>\n",
       "      <td>False</td>\n",
       "      <td>False</td>\n",
       "      <td>False</td>\n",
       "      <td>False</td>\n",
       "      <td>False</td>\n",
       "    </tr>\n",
       "    <tr>\n",
       "      <th>24</th>\n",
       "      <td>78956</td>\n",
       "      <td>5.0</td>\n",
       "      <td>35000</td>\n",
       "      <td>11.11</td>\n",
       "      <td>1</td>\n",
       "      <td>0.44</td>\n",
       "      <td>False</td>\n",
       "      <td>4</td>\n",
       "      <td>False</td>\n",
       "      <td>False</td>\n",
       "      <td>...</td>\n",
       "      <td>True</td>\n",
       "      <td>False</td>\n",
       "      <td>False</td>\n",
       "      <td>False</td>\n",
       "      <td>True</td>\n",
       "      <td>False</td>\n",
       "      <td>False</td>\n",
       "      <td>False</td>\n",
       "      <td>False</td>\n",
       "      <td>False</td>\n",
       "    </tr>\n",
       "  </tbody>\n",
       "</table>\n",
       "<p>5 rows × 25 columns</p>\n",
       "</div>"
      ],
      "text/plain": [
       "            person_income  person_emp_length  loan_amnt  loan_int_rate  \\\n",
       "person_age                                                               \n",
       "25                   9600                1.0       5500          12.87   \n",
       "23                  65500                4.0      35000          15.23   \n",
       "24                  54400                8.0      35000          14.27   \n",
       "26                  77100                8.0      35000          12.42   \n",
       "24                  78956                5.0      35000          11.11   \n",
       "\n",
       "            loan_status  loan_percent_income  cb_person_default_on_file  \\\n",
       "person_age                                                                \n",
       "25                    1                 0.57                      False   \n",
       "23                    1                 0.53                      False   \n",
       "24                    1                 0.55                       True   \n",
       "26                    1                 0.45                      False   \n",
       "24                    1                 0.44                      False   \n",
       "\n",
       "            cb_person_cred_hist_length  person_home_ownership_MORTGAGE  \\\n",
       "person_age                                                               \n",
       "25                                   3                            True   \n",
       "23                                   2                           False   \n",
       "24                                   4                           False   \n",
       "26                                   3                           False   \n",
       "24                                   4                           False   \n",
       "\n",
       "            person_home_ownership_OTHER  ...  loan_intent_MEDICAL  \\\n",
       "person_age                               ...                        \n",
       "25                                False  ...                 True   \n",
       "23                                False  ...                 True   \n",
       "24                                False  ...                 True   \n",
       "26                                False  ...                False   \n",
       "24                                False  ...                 True   \n",
       "\n",
       "            loan_intent_PERSONAL  loan_intent_VENTURE  loan_grade_A  \\\n",
       "person_age                                                            \n",
       "25                         False                False         False   \n",
       "23                         False                False         False   \n",
       "24                         False                False         False   \n",
       "26                         False                False         False   \n",
       "24                         False                False         False   \n",
       "\n",
       "            loan_grade_B  loan_grade_C  loan_grade_D  loan_grade_E  \\\n",
       "person_age                                                           \n",
       "25                 False          True         False         False   \n",
       "23                 False          True         False         False   \n",
       "24                 False          True         False         False   \n",
       "26                  True         False         False         False   \n",
       "24                  True         False         False         False   \n",
       "\n",
       "            loan_grade_F  loan_grade_G  \n",
       "person_age                              \n",
       "25                 False         False  \n",
       "23                 False         False  \n",
       "24                 False         False  \n",
       "26                 False         False  \n",
       "24                 False         False  \n",
       "\n",
       "[5 rows x 25 columns]"
      ]
     },
     "execution_count": 250,
     "metadata": {},
     "output_type": "execute_result"
    }
   ],
   "source": [
    "# Display the first few rows of the DataFrame with the encoded columns.\n",
    "credit_df.head()"
   ]
  },
  {
   "cell_type": "code",
   "execution_count": 251,
   "metadata": {},
   "outputs": [
    {
     "data": {
      "text/plain": [
       "Index(['person_income', 'person_emp_length', 'loan_amnt', 'loan_int_rate',\n",
       "       'loan_status', 'loan_percent_income', 'cb_person_default_on_file',\n",
       "       'cb_person_cred_hist_length', 'person_home_ownership_MORTGAGE',\n",
       "       'person_home_ownership_OTHER', 'person_home_ownership_OWN',\n",
       "       'person_home_ownership_RENT', 'loan_intent_DEBTCONSOLIDATION',\n",
       "       'loan_intent_EDUCATION', 'loan_intent_HOMEIMPROVEMENT',\n",
       "       'loan_intent_MEDICAL', 'loan_intent_PERSONAL', 'loan_intent_VENTURE',\n",
       "       'loan_grade_A', 'loan_grade_B', 'loan_grade_C', 'loan_grade_D',\n",
       "       'loan_grade_E', 'loan_grade_F', 'loan_grade_G'],\n",
       "      dtype='object')"
      ]
     },
     "execution_count": 251,
     "metadata": {},
     "output_type": "execute_result"
    }
   ],
   "source": [
    "# We'll check how the columns look after applying One Hot Encoding.\n",
    "# Notice how the number of columns has changed.\n",
    "credit_df.columns"
   ]
  },
  {
   "cell_type": "code",
   "execution_count": 252,
   "metadata": {},
   "outputs": [
    {
     "data": {
      "text/plain": [
       "person_income                       int64\n",
       "person_emp_length                 float64\n",
       "loan_amnt                           int64\n",
       "loan_int_rate                     float64\n",
       "loan_status                         int64\n",
       "loan_percent_income               float64\n",
       "cb_person_default_on_file            bool\n",
       "cb_person_cred_hist_length          int64\n",
       "person_home_ownership_MORTGAGE       bool\n",
       "person_home_ownership_OTHER          bool\n",
       "person_home_ownership_OWN            bool\n",
       "person_home_ownership_RENT           bool\n",
       "loan_intent_DEBTCONSOLIDATION        bool\n",
       "loan_intent_EDUCATION                bool\n",
       "loan_intent_HOMEIMPROVEMENT          bool\n",
       "loan_intent_MEDICAL                  bool\n",
       "loan_intent_PERSONAL                 bool\n",
       "loan_intent_VENTURE                  bool\n",
       "loan_grade_A                         bool\n",
       "loan_grade_B                         bool\n",
       "loan_grade_C                         bool\n",
       "loan_grade_D                         bool\n",
       "loan_grade_E                         bool\n",
       "loan_grade_F                         bool\n",
       "loan_grade_G                         bool\n",
       "dtype: object"
      ]
     },
     "execution_count": 252,
     "metadata": {},
     "output_type": "execute_result"
    }
   ],
   "source": [
    "# Let's check the data types of the columns.\n",
    "# Notice that all the new columns are booleans.\n",
    "credit_df.dtypes"
   ]
  },
  {
   "cell_type": "markdown",
   "metadata": {},
   "source": [
    "### 2.5: Standardization"
   ]
  },
  {
   "cell_type": "markdown",
   "metadata": {},
   "source": [
    "We will now apply a standardization process to the data to better work with it in Machine Learning models.\n",
    "\n",
    "- Standardization refers to the process of adjusting the scale of the data so that they have a mean of zero and a standard deviation of 1. The StandardScaler performs this normalization by subtracting the mean of each feature and then dividing by the standard deviation. This helps ensure that the data have a more uniform distribution and can improve the performance of many machine learning algorithms."
   ]
  },
  {
   "cell_type": "code",
   "execution_count": 253,
   "metadata": {},
   "outputs": [
    {
     "data": {
      "text/html": [
       "<div>\n",
       "<style scoped>\n",
       "    .dataframe tbody tr th:only-of-type {\n",
       "        vertical-align: middle;\n",
       "    }\n",
       "\n",
       "    .dataframe tbody tr th {\n",
       "        vertical-align: top;\n",
       "    }\n",
       "\n",
       "    .dataframe thead th {\n",
       "        text-align: right;\n",
       "    }\n",
       "</style>\n",
       "<table border=\"1\" class=\"dataframe\">\n",
       "  <thead>\n",
       "    <tr style=\"text-align: right;\">\n",
       "      <th></th>\n",
       "      <th>person_income</th>\n",
       "      <th>person_emp_length</th>\n",
       "      <th>loan_amnt</th>\n",
       "      <th>loan_int_rate</th>\n",
       "      <th>loan_status</th>\n",
       "      <th>loan_percent_income</th>\n",
       "      <th>cb_person_default_on_file</th>\n",
       "      <th>cb_person_cred_hist_length</th>\n",
       "      <th>person_home_ownership_MORTGAGE</th>\n",
       "      <th>person_home_ownership_OTHER</th>\n",
       "      <th>...</th>\n",
       "      <th>loan_intent_MEDICAL</th>\n",
       "      <th>loan_intent_PERSONAL</th>\n",
       "      <th>loan_intent_VENTURE</th>\n",
       "      <th>loan_grade_A</th>\n",
       "      <th>loan_grade_B</th>\n",
       "      <th>loan_grade_C</th>\n",
       "      <th>loan_grade_D</th>\n",
       "      <th>loan_grade_E</th>\n",
       "      <th>loan_grade_F</th>\n",
       "      <th>loan_grade_G</th>\n",
       "    </tr>\n",
       "    <tr>\n",
       "      <th>person_age</th>\n",
       "      <th></th>\n",
       "      <th></th>\n",
       "      <th></th>\n",
       "      <th></th>\n",
       "      <th></th>\n",
       "      <th></th>\n",
       "      <th></th>\n",
       "      <th></th>\n",
       "      <th></th>\n",
       "      <th></th>\n",
       "      <th></th>\n",
       "      <th></th>\n",
       "      <th></th>\n",
       "      <th></th>\n",
       "      <th></th>\n",
       "      <th></th>\n",
       "      <th></th>\n",
       "      <th></th>\n",
       "      <th></th>\n",
       "      <th></th>\n",
       "      <th></th>\n",
       "    </tr>\n",
       "  </thead>\n",
       "  <tbody>\n",
       "    <tr>\n",
       "      <th>25</th>\n",
       "      <td>-0.899012</td>\n",
       "      <td>-0.951127</td>\n",
       "      <td>-0.667268</td>\n",
       "      <td>0.600695</td>\n",
       "      <td>1</td>\n",
       "      <td>3.808117</td>\n",
       "      <td>False</td>\n",
       "      <td>-0.786389</td>\n",
       "      <td>True</td>\n",
       "      <td>False</td>\n",
       "      <td>...</td>\n",
       "      <td>True</td>\n",
       "      <td>False</td>\n",
       "      <td>False</td>\n",
       "      <td>False</td>\n",
       "      <td>False</td>\n",
       "      <td>True</td>\n",
       "      <td>False</td>\n",
       "      <td>False</td>\n",
       "      <td>False</td>\n",
       "      <td>False</td>\n",
       "    </tr>\n",
       "    <tr>\n",
       "      <th>23</th>\n",
       "      <td>-0.050568</td>\n",
       "      <td>-0.233549</td>\n",
       "      <td>3.921085</td>\n",
       "      <td>1.364416</td>\n",
       "      <td>1</td>\n",
       "      <td>3.429622</td>\n",
       "      <td>False</td>\n",
       "      <td>-1.024891</td>\n",
       "      <td>False</td>\n",
       "      <td>False</td>\n",
       "      <td>...</td>\n",
       "      <td>True</td>\n",
       "      <td>False</td>\n",
       "      <td>False</td>\n",
       "      <td>False</td>\n",
       "      <td>False</td>\n",
       "      <td>True</td>\n",
       "      <td>False</td>\n",
       "      <td>False</td>\n",
       "      <td>False</td>\n",
       "      <td>False</td>\n",
       "    </tr>\n",
       "    <tr>\n",
       "      <th>24</th>\n",
       "      <td>-0.219042</td>\n",
       "      <td>0.723222</td>\n",
       "      <td>3.921085</td>\n",
       "      <td>1.053750</td>\n",
       "      <td>1</td>\n",
       "      <td>3.618870</td>\n",
       "      <td>True</td>\n",
       "      <td>-0.547887</td>\n",
       "      <td>False</td>\n",
       "      <td>False</td>\n",
       "      <td>...</td>\n",
       "      <td>True</td>\n",
       "      <td>False</td>\n",
       "      <td>False</td>\n",
       "      <td>False</td>\n",
       "      <td>False</td>\n",
       "      <td>True</td>\n",
       "      <td>False</td>\n",
       "      <td>False</td>\n",
       "      <td>False</td>\n",
       "      <td>False</td>\n",
       "    </tr>\n",
       "    <tr>\n",
       "      <th>26</th>\n",
       "      <td>0.125496</td>\n",
       "      <td>0.723222</td>\n",
       "      <td>3.921085</td>\n",
       "      <td>0.455070</td>\n",
       "      <td>1</td>\n",
       "      <td>2.672633</td>\n",
       "      <td>False</td>\n",
       "      <td>-0.786389</td>\n",
       "      <td>False</td>\n",
       "      <td>False</td>\n",
       "      <td>...</td>\n",
       "      <td>False</td>\n",
       "      <td>False</td>\n",
       "      <td>False</td>\n",
       "      <td>False</td>\n",
       "      <td>True</td>\n",
       "      <td>False</td>\n",
       "      <td>False</td>\n",
       "      <td>False</td>\n",
       "      <td>False</td>\n",
       "      <td>False</td>\n",
       "    </tr>\n",
       "    <tr>\n",
       "      <th>24</th>\n",
       "      <td>0.153666</td>\n",
       "      <td>0.005643</td>\n",
       "      <td>3.921085</td>\n",
       "      <td>0.031140</td>\n",
       "      <td>1</td>\n",
       "      <td>2.578009</td>\n",
       "      <td>False</td>\n",
       "      <td>-0.547887</td>\n",
       "      <td>False</td>\n",
       "      <td>False</td>\n",
       "      <td>...</td>\n",
       "      <td>True</td>\n",
       "      <td>False</td>\n",
       "      <td>False</td>\n",
       "      <td>False</td>\n",
       "      <td>True</td>\n",
       "      <td>False</td>\n",
       "      <td>False</td>\n",
       "      <td>False</td>\n",
       "      <td>False</td>\n",
       "      <td>False</td>\n",
       "    </tr>\n",
       "  </tbody>\n",
       "</table>\n",
       "<p>5 rows × 25 columns</p>\n",
       "</div>"
      ],
      "text/plain": [
       "            person_income  person_emp_length  loan_amnt  loan_int_rate  \\\n",
       "person_age                                                               \n",
       "25              -0.899012          -0.951127  -0.667268       0.600695   \n",
       "23              -0.050568          -0.233549   3.921085       1.364416   \n",
       "24              -0.219042           0.723222   3.921085       1.053750   \n",
       "26               0.125496           0.723222   3.921085       0.455070   \n",
       "24               0.153666           0.005643   3.921085       0.031140   \n",
       "\n",
       "            loan_status  loan_percent_income  cb_person_default_on_file  \\\n",
       "person_age                                                                \n",
       "25                    1             3.808117                      False   \n",
       "23                    1             3.429622                      False   \n",
       "24                    1             3.618870                       True   \n",
       "26                    1             2.672633                      False   \n",
       "24                    1             2.578009                      False   \n",
       "\n",
       "            cb_person_cred_hist_length  person_home_ownership_MORTGAGE  \\\n",
       "person_age                                                               \n",
       "25                           -0.786389                            True   \n",
       "23                           -1.024891                           False   \n",
       "24                           -0.547887                           False   \n",
       "26                           -0.786389                           False   \n",
       "24                           -0.547887                           False   \n",
       "\n",
       "            person_home_ownership_OTHER  ...  loan_intent_MEDICAL  \\\n",
       "person_age                               ...                        \n",
       "25                                False  ...                 True   \n",
       "23                                False  ...                 True   \n",
       "24                                False  ...                 True   \n",
       "26                                False  ...                False   \n",
       "24                                False  ...                 True   \n",
       "\n",
       "            loan_intent_PERSONAL  loan_intent_VENTURE  loan_grade_A  \\\n",
       "person_age                                                            \n",
       "25                         False                False         False   \n",
       "23                         False                False         False   \n",
       "24                         False                False         False   \n",
       "26                         False                False         False   \n",
       "24                         False                False         False   \n",
       "\n",
       "            loan_grade_B  loan_grade_C  loan_grade_D  loan_grade_E  \\\n",
       "person_age                                                           \n",
       "25                 False          True         False         False   \n",
       "23                 False          True         False         False   \n",
       "24                 False          True         False         False   \n",
       "26                  True         False         False         False   \n",
       "24                  True         False         False         False   \n",
       "\n",
       "            loan_grade_F  loan_grade_G  \n",
       "person_age                              \n",
       "25                 False         False  \n",
       "23                 False         False  \n",
       "24                 False         False  \n",
       "26                 False         False  \n",
       "24                 False         False  \n",
       "\n",
       "[5 rows x 25 columns]"
      ]
     },
     "execution_count": 253,
     "metadata": {},
     "output_type": "execute_result"
    }
   ],
   "source": [
    "from sklearn.preprocessing import StandardScaler\n",
    "\n",
    "# Select only the numeric columns for standardization.\n",
    "numeric_columns = credit_df.select_dtypes(include=['float64', 'int64']).columns\n",
    "\n",
    "# Delete the column 'loan_status' from the numeric_columns\n",
    "numeric_columns = numeric_columns.drop('loan_status')\n",
    "\n",
    "# Create a copy of the dataframe to avoid change the original one\n",
    "credit_df_scaled = credit_df.copy()\n",
    "\n",
    "# Initialize the StandardScaler.\n",
    "scaler = StandardScaler()\n",
    "\n",
    "# Apply standardization only to the numeric columns.\n",
    "credit_df_scaled[numeric_columns] = scaler.fit_transform(credit_df[numeric_columns])\n",
    "\n",
    "# Show the first 'credit_df_scaled' lines.\n",
    "credit_df_scaled.head()\n"
   ]
  },
  {
   "cell_type": "code",
   "execution_count": 254,
   "metadata": {},
   "outputs": [],
   "source": [
    "# # Save churn_df to an csv file\n",
    "# credit_df_scaled.to_csv('credit_clean_data(csv).csv', index=False)\n",
    "\n",
    "# # Save churn_df to an excel file\n",
    "# credit_df_scaled.to_excel('credit_clean_data(excel).xlsx', index=False)"
   ]
  },
  {
   "cell_type": "markdown",
   "metadata": {},
   "source": [
    "# Chapter 3: Building and Testing Machine Learning Models"
   ]
  },
  {
   "cell_type": "markdown",
   "metadata": {},
   "source": [
    "Let's proceed with the construction of our Machine Learning models.\n",
    "\n",
    "We will also perform some 'GridSearch' to find the best parameters for certain algorithms.\n",
    "\n",
    "After that, we will test our algorithms to observe their performance.\n",
    "\n",
    "We trained all models using the standard dataset, as well as undersampling and SMOTE techniques to address class imbalance. However, for project streamlining purposes, we have elected to retain only the most relevant models."
   ]
  },
  {
   "cell_type": "markdown",
   "metadata": {},
   "source": [
    "### 3.1: Splitting Data into Training and Testing Sets"
   ]
  },
  {
   "cell_type": "code",
   "execution_count": 255,
   "metadata": {},
   "outputs": [
    {
     "name": "stdout",
     "output_type": "stream",
     "text": [
      "Shape of training set: (16631, 24) (16631,)\n",
      "Shape of validation set: (5544, 24) (5544,)\n",
      "Shape of test set: (5544, 24) (5544,)\n"
     ]
    }
   ],
   "source": [
    "from sklearn.model_selection import train_test_split\n",
    "\n",
    "# Separate the target variable from the others.\n",
    "X = credit_df_scaled.drop('loan_status', axis=1)  # Features (independent variables)\n",
    "y = credit_df_scaled['loan_status']  # Target variable (labels)\n",
    "\n",
    "# Splitting the data into training and test sets with stratification\n",
    "X_train_val, X_test, y_train_val, y_test = train_test_split(X, y, test_size=0.2, stratify=y, random_state=42)\n",
    "X_train, X_val, y_train, y_val = train_test_split(X_train_val, y_train_val, test_size=0.25, random_state=42)  # Splitting again to obtain the validation set\n",
    "\n",
    "# Displaying the shapes of the resulting datasets\n",
    "print(\"Shape of training set:\", X_train.shape, y_train.shape)\n",
    "print(\"Shape of validation set:\", X_val.shape, y_val.shape)\n",
    "print(\"Shape of test set:\", X_test.shape, y_test.shape)"
   ]
  },
  {
   "cell_type": "code",
   "execution_count": 256,
   "metadata": {},
   "outputs": [
    {
     "data": {
      "text/plain": [
       "(loan_status\n",
       " 0    13097\n",
       " 1     3534\n",
       " Name: count, dtype: int64,\n",
       " loan_status\n",
       " 0    4396\n",
       " 1    1148\n",
       " Name: count, dtype: int64,\n",
       " loan_status\n",
       " 0    4374\n",
       " 1    1170\n",
       " Name: count, dtype: int64)"
      ]
     },
     "execution_count": 256,
     "metadata": {},
     "output_type": "execute_result"
    }
   ],
   "source": [
    "# Counting the occurrences of each class in the training, validation, and test set\n",
    "pd.Series(y_train).value_counts(), pd.Series(y_val).value_counts(), pd.Series(y_test).value_counts()"
   ]
  },
  {
   "cell_type": "markdown",
   "metadata": {},
   "source": [
    "- Undersampling"
   ]
  },
  {
   "cell_type": "code",
   "execution_count": 257,
   "metadata": {},
   "outputs": [
    {
     "name": "stdout",
     "output_type": "stream",
     "text": [
      "Shape of training set after undersampling: (7068, 24) (7068,)\n"
     ]
    }
   ],
   "source": [
    "from imblearn.under_sampling import RandomUnderSampler\n",
    "\n",
    "# Create the sampler for undersampling\n",
    "undersampler = RandomUnderSampler(random_state=42)\n",
    "\n",
    "# Apply undersampling only to the training set\n",
    "X_train_us, y_train_us = undersampler.fit_resample(X_train, y_train)\n",
    "\n",
    "print(\"Shape of training set after undersampling:\", X_train_us.shape, y_train_us.shape)"
   ]
  },
  {
   "cell_type": "code",
   "execution_count": 258,
   "metadata": {},
   "outputs": [
    {
     "data": {
      "text/plain": [
       "loan_status\n",
       "0    3534\n",
       "1    3534\n",
       "Name: count, dtype: int64"
      ]
     },
     "execution_count": 258,
     "metadata": {},
     "output_type": "execute_result"
    }
   ],
   "source": [
    "# Counting the occurrences of each class in the training, validation, and test set\n",
    "pd.Series(y_train_us).value_counts()"
   ]
  },
  {
   "cell_type": "markdown",
   "metadata": {},
   "source": [
    "- SMOTE"
   ]
  },
  {
   "cell_type": "code",
   "execution_count": 259,
   "metadata": {},
   "outputs": [],
   "source": [
    "from imblearn.over_sampling import SMOTE\n",
    "\n",
    "# Apply SMOTE only on the training set to address class imbalance\n",
    "smote = SMOTE(random_state=42)\n",
    "X_train_smote, y_train_smote = smote.fit_resample(X_train, y_train)"
   ]
  },
  {
   "cell_type": "code",
   "execution_count": 260,
   "metadata": {},
   "outputs": [
    {
     "data": {
      "text/plain": [
       "loan_status\n",
       "0    13097\n",
       "1    13097\n",
       "Name: count, dtype: int64"
      ]
     },
     "execution_count": 260,
     "metadata": {},
     "output_type": "execute_result"
    }
   ],
   "source": [
    "# Counting the occurrences of each class in the training, validation, and test set\n",
    "pd.Series(y_train_smote).value_counts()"
   ]
  },
  {
   "cell_type": "markdown",
   "metadata": {},
   "source": [
    "### 3.2: Logistic Regression"
   ]
  },
  {
   "cell_type": "markdown",
   "metadata": {},
   "source": [
    "- Normal"
   ]
  },
  {
   "cell_type": "code",
   "execution_count": 261,
   "metadata": {},
   "outputs": [
    {
     "name": "stdout",
     "output_type": "stream",
     "text": [
      "              precision    recall  f1-score   support\n",
      "\n",
      "Not Approved       0.89      0.95      0.92      4396\n",
      "    Approved       0.74      0.54      0.63      1148\n",
      "\n",
      "    accuracy                           0.87      5544\n",
      "   macro avg       0.81      0.75      0.77      5544\n",
      "weighted avg       0.86      0.87      0.86      5544\n",
      "\n"
     ]
    }
   ],
   "source": [
    "from sklearn.linear_model import LogisticRegression\n",
    "from sklearn.metrics import classification_report\n",
    "\n",
    "# Instantiate logistic regression model\n",
    "logistic_model = LogisticRegression(random_state=42)\n",
    "\n",
    "# Train the logistic regression model\n",
    "logistic_model.fit(X_train, y_train)\n",
    "\n",
    "# Generate classification report for the original imbalanced validation set\n",
    "print(classification_report(y_val, logistic_model.predict(X_val), target_names=['Not Approved', 'Approved']))"
   ]
  },
  {
   "cell_type": "markdown",
   "metadata": {},
   "source": [
    "- Undersampling"
   ]
  },
  {
   "cell_type": "code",
   "execution_count": 262,
   "metadata": {},
   "outputs": [
    {
     "name": "stdout",
     "output_type": "stream",
     "text": [
      "              precision    recall  f1-score   support\n",
      "\n",
      "Not Approved       0.93      0.81      0.87      4396\n",
      "    Approved       0.52      0.77      0.62      1148\n",
      "\n",
      "    accuracy                           0.81      5544\n",
      "   macro avg       0.73      0.79      0.75      5544\n",
      "weighted avg       0.85      0.81      0.82      5544\n",
      "\n"
     ]
    }
   ],
   "source": [
    "# Train the logistic regression model \n",
    "logistic_model.fit(X_train_us, y_train_us)\n",
    "\n",
    "# Generate classification report for the original imbalanced validation set\n",
    "print(classification_report(y_val, logistic_model.predict(X_val), target_names=['Not Approved', 'Approved']))"
   ]
  },
  {
   "cell_type": "markdown",
   "metadata": {},
   "source": [
    "### 3.3: Random Forest"
   ]
  },
  {
   "cell_type": "markdown",
   "metadata": {},
   "source": [
    "- Normal"
   ]
  },
  {
   "cell_type": "code",
   "execution_count": 263,
   "metadata": {},
   "outputs": [
    {
     "name": "stdout",
     "output_type": "stream",
     "text": [
      "              precision    recall  f1-score   support\n",
      "\n",
      "Not Approved       0.93      0.99      0.96      4396\n",
      "    Approved       0.95      0.71      0.81      1148\n",
      "\n",
      "    accuracy                           0.93      5544\n",
      "   macro avg       0.94      0.85      0.89      5544\n",
      "weighted avg       0.93      0.93      0.93      5544\n",
      "\n"
     ]
    }
   ],
   "source": [
    "from sklearn.ensemble import RandomForestClassifier\n",
    "\n",
    "# Initialize the Random Forest model.\n",
    "rf_model = RandomForestClassifier(random_state=42)\n",
    "\n",
    "# Traim the model.\n",
    "rf_model.fit(X_train, y_train)\n",
    "# Generate classification report for the original imbalanced validation set\n",
    "print(classification_report(y_val, rf_model.predict(X_val), target_names=['Not Approved', 'Approved']))"
   ]
  },
  {
   "cell_type": "markdown",
   "metadata": {},
   "source": [
    "- Undersampling"
   ]
  },
  {
   "cell_type": "code",
   "execution_count": 264,
   "metadata": {},
   "outputs": [
    {
     "name": "stdout",
     "output_type": "stream",
     "text": [
      "              precision    recall  f1-score   support\n",
      "\n",
      "Not Approved       0.94      0.90      0.92      4396\n",
      "    Approved       0.67      0.79      0.73      1148\n",
      "\n",
      "    accuracy                           0.88      5544\n",
      "   macro avg       0.81      0.84      0.82      5544\n",
      "weighted avg       0.89      0.88      0.88      5544\n",
      "\n"
     ]
    }
   ],
   "source": [
    "# Train the Random Forest classifier \n",
    "rf_model.fit(X_train_us, y_train_us)\n",
    "\n",
    "# Generate classification report for the original imbalanced validation set\n",
    "print(classification_report(y_val, rf_model.predict(X_val), target_names=['Not Approved', 'Approved']))"
   ]
  },
  {
   "cell_type": "markdown",
   "metadata": {},
   "source": [
    "- SMOTE"
   ]
  },
  {
   "cell_type": "code",
   "execution_count": 265,
   "metadata": {},
   "outputs": [
    {
     "name": "stdout",
     "output_type": "stream",
     "text": [
      "              precision    recall  f1-score   support\n",
      "\n",
      "Not Approved       0.93      0.97      0.95      4396\n",
      "    Approved       0.87      0.73      0.79      1148\n",
      "\n",
      "    accuracy                           0.92      5544\n",
      "   macro avg       0.90      0.85      0.87      5544\n",
      "weighted avg       0.92      0.92      0.92      5544\n",
      "\n"
     ]
    }
   ],
   "source": [
    "# Train the Random Forest classifier \n",
    "rf_model.fit(X_train_smote, y_train_smote)\n",
    "\n",
    "# Generate classification report for the original imbalanced validation set\n",
    "print(classification_report(y_val, rf_model.predict(X_val), target_names=['Not Approved', 'Approved']))"
   ]
  },
  {
   "cell_type": "markdown",
   "metadata": {},
   "source": [
    "### 3.4: Gradient Boosting"
   ]
  },
  {
   "cell_type": "markdown",
   "metadata": {},
   "source": [
    "- Normal"
   ]
  },
  {
   "cell_type": "code",
   "execution_count": 266,
   "metadata": {},
   "outputs": [
    {
     "name": "stdout",
     "output_type": "stream",
     "text": [
      "              precision    recall  f1-score   support\n",
      "\n",
      "Not Approved       0.93      0.99      0.96      4396\n",
      "    Approved       0.95      0.72      0.82      1148\n",
      "\n",
      "    accuracy                           0.93      5544\n",
      "   macro avg       0.94      0.85      0.89      5544\n",
      "weighted avg       0.94      0.93      0.93      5544\n",
      "\n"
     ]
    }
   ],
   "source": [
    "from sklearn.ensemble import GradientBoostingClassifier\n",
    "\n",
    "# Initialize the Gradient Boosting model.\n",
    "gb_model = GradientBoostingClassifier(learning_rate=0.1, max_depth=5, min_samples_leaf=1, min_samples_split=10, n_estimators=150, subsample=0.9, random_state=42)\n",
    "\n",
    "# Train the model.\n",
    "gb_model.fit(X_train, y_train)\n",
    "\n",
    "# Generate classification report for the original imbalanced validation set\n",
    "print(classification_report(y_val, gb_model.predict(X_val), target_names=['Not Approved', 'Approved']))"
   ]
  },
  {
   "cell_type": "markdown",
   "metadata": {},
   "source": [
    "GridSearch was performed to find the best parameters. The code is commented below."
   ]
  },
  {
   "cell_type": "code",
   "execution_count": 267,
   "metadata": {},
   "outputs": [],
   "source": [
    "# from sklearn.ensemble import GradientBoostingClassifier\n",
    "# from sklearn.model_selection import GridSearchCV\n",
    "# from sklearn.metrics import accuracy_score, classification_report, confusion_matrix\n",
    "\n",
    "# # Define the parameters to be tuned\n",
    "# param_grid_gb = {\n",
    "#     'n_estimators': [50, 100, 150],\n",
    "#     'learning_rate': [0.01, 0.1, 0.2],\n",
    "#     'max_depth': [3, 4, 5],\n",
    "#     'min_samples_split': [2, 5, 10],\n",
    "#     'min_samples_leaf': [1, 2, 4],\n",
    "#     'subsample': [0.8, 0.9, 1.0]\n",
    "# }\n",
    "\n",
    "# # Initialize the Gradient Boosting model\n",
    "# gb_model = GradientBoostingClassifier(random_state=42)\n",
    "\n",
    "# # Create the GridSearchCV object\n",
    "# grid_search_gb = GridSearchCV(gb_model, param_grid_gb, cv=5, scoring='accuracy', n_jobs=-1)\n",
    "\n",
    "# # Perform grid search on the training data\n",
    "# grid_search_gb.fit(X_train, y_train)\n",
    "\n",
    "# # Best parameters found\n",
    "# best_params_gb = grid_search_gb.best_params_\n",
    "\n",
    "# # Train the model with the best parameters\n",
    "# best_model_gb = grid_search_gb.best_estimator_\n",
    "# best_model_gb.fit(X_train, y_train)\n",
    "\n",
    "# # Make predictions on the test set\n",
    "# y_pred_gb = best_model_gb.predict(X_test)\n",
    "\n",
    "# # Evaluate the model's performance\n",
    "# accuracy_gb = accuracy_score(y_test, y_pred_gb)\n",
    "# conf_matrix_gb = confusion_matrix(y_test, y_pred_gb)\n",
    "# classification_rep_gb = classification_report(y_test, y_pred_gb)\n",
    "\n",
    "# # Display performance metrics and best parameters\n",
    "# print(f'Best Gradient Boosting Parameters: {best_params_gb}')\n",
    "# print(f'Gradient Boosting Accuracy: {accuracy_gb:.4f}')\n",
    "# print(f'Confusion Matrix for Gradient Boosting:\\n{conf_matrix_gb}')\n",
    "# print(f'Classification Report for Gradient Boosting:\\n{classification_rep_gb}')\n",
    "# # Without grid search, the result had been 0.9265, so it didn't improve much."
   ]
  },
  {
   "cell_type": "markdown",
   "metadata": {},
   "source": [
    "- Undersampling"
   ]
  },
  {
   "cell_type": "code",
   "execution_count": 268,
   "metadata": {},
   "outputs": [
    {
     "name": "stdout",
     "output_type": "stream",
     "text": [
      "              precision    recall  f1-score   support\n",
      "\n",
      "Not Approved       0.95      0.91      0.93      4396\n",
      "    Approved       0.69      0.80      0.74      1148\n",
      "\n",
      "    accuracy                           0.88      5544\n",
      "   macro avg       0.82      0.85      0.83      5544\n",
      "weighted avg       0.89      0.88      0.89      5544\n",
      "\n"
     ]
    }
   ],
   "source": [
    "# Train the model.\n",
    "gb_model.fit(X_train_us, y_train_us)\n",
    "\n",
    "# Generate classification report for the original imbalanced validation set\n",
    "print(classification_report(y_val, gb_model.predict(X_val), target_names=['Not Approved', 'Approved']))"
   ]
  },
  {
   "cell_type": "markdown",
   "metadata": {},
   "source": [
    "### 3.5: Support Vector Machine (SVM)"
   ]
  },
  {
   "cell_type": "code",
   "execution_count": 269,
   "metadata": {},
   "outputs": [
    {
     "name": "stdout",
     "output_type": "stream",
     "text": [
      "              precision    recall  f1-score   support\n",
      "\n",
      "Not Approved       0.92      0.99      0.95      4396\n",
      "    Approved       0.93      0.65      0.77      1148\n",
      "\n",
      "    accuracy                           0.92      5544\n",
      "   macro avg       0.93      0.82      0.86      5544\n",
      "weighted avg       0.92      0.92      0.91      5544\n",
      "\n"
     ]
    }
   ],
   "source": [
    "from sklearn.svm import SVC\n",
    "\n",
    "# Initialize the SVM model.\n",
    "svm_model = SVC(random_state=42)\n",
    "\n",
    "# Train the model.\n",
    "svm_model.fit(X_train, y_train)\n",
    "\n",
    "# Generate classification report for the original imbalanced validation set\n",
    "print(classification_report(y_val, svm_model.predict(X_val), target_names=['Not Approved', 'Approved']))"
   ]
  },
  {
   "cell_type": "markdown",
   "metadata": {},
   "source": [
    "### 3.6: K-Nearest Neighbors (KNN)"
   ]
  },
  {
   "cell_type": "code",
   "execution_count": 270,
   "metadata": {},
   "outputs": [
    {
     "name": "stdout",
     "output_type": "stream",
     "text": [
      "              precision    recall  f1-score   support\n",
      "\n",
      "Not Approved       0.91      0.98      0.94      4396\n",
      "    Approved       0.90      0.61      0.72      1148\n",
      "\n",
      "    accuracy                           0.90      5544\n",
      "   macro avg       0.90      0.79      0.83      5544\n",
      "weighted avg       0.90      0.90      0.90      5544\n",
      "\n"
     ]
    }
   ],
   "source": [
    "from sklearn.neighbors import KNeighborsClassifier\n",
    "\n",
    "# Initialize the KNN model.\n",
    "knn_model = KNeighborsClassifier(metric= 'manhattan', n_neighbors=9, weights='distance')\n",
    "\n",
    "# Train the model.\n",
    "knn_model.fit(X_train, y_train)\n",
    "\n",
    "# Generate classification report for the original imbalanced validation set\n",
    "print(classification_report(y_val, knn_model.predict(X_val), target_names=['Not Approved', 'Approved']))"
   ]
  },
  {
   "cell_type": "markdown",
   "metadata": {},
   "source": [
    "GridSearch was performed to find the best parameters. The code is commented below."
   ]
  },
  {
   "cell_type": "code",
   "execution_count": 271,
   "metadata": {},
   "outputs": [],
   "source": [
    "# from sklearn.model_selection import GridSearchCV\n",
    "\n",
    "# # Define the parameters you want to test\n",
    "# param_grid = {\n",
    "#     'n_neighbors': [3, 5, 7, 9],  # test different values for the number of neighbors\n",
    "#     'weights': ['uniform', 'distance'],  # test different weighting methods\n",
    "#     'metric': ['euclidean', 'manhattan']  # test different distance metrics\n",
    "# }\n",
    "\n",
    "# # Initialize the KNN model\n",
    "# knn_model = KNeighborsClassifier()\n",
    "\n",
    "# # Initialize the grid search\n",
    "# grid_search = GridSearchCV(estimator=knn_model, param_grid=param_grid, scoring='accuracy', cv=5)\n",
    "\n",
    "# # Perform grid search on the training set\n",
    "# grid_search.fit(X_train, y_train)\n",
    "\n",
    "# # Get the best parameters found\n",
    "# best_params = grid_search.best_params_\n",
    "\n",
    "# # Train the model with the best parameters on the full training set\n",
    "# best_knn_model = KNeighborsClassifier(**best_params)\n",
    "# best_knn_model.fit(X_train, y_train)\n",
    "\n",
    "# # Make predictions on the test set using the optimized model\n",
    "# y_pred_best_knn = best_knn_model.predict(X_test)\n",
    "\n",
    "# # Evaluate the performance of the optimized model\n",
    "# accuracy_best_knn = accuracy_score(y_test, y_pred_best_knn)\n",
    "# conf_matrix_best_knn = confusion_matrix(y_test, y_pred_best_knn)\n",
    "# classification_rep_best_knn = classification_report(y_test, y_pred_best_knn)\n",
    "\n",
    "# # Display performance metrics of the optimized model\n",
    "# print(f'Best parameters found: {best_params}')\n",
    "# print(f'Optimized KNN accuracy: {accuracy_best_knn:.4f}')\n",
    "# print(f'Confusion Matrix for Optimized KNN:\\n{conf_matrix_best_knn}')\n",
    "# print(f'Classification Report for Optimized KNN:\\n{classification_rep_best_knn}')"
   ]
  },
  {
   "cell_type": "markdown",
   "metadata": {},
   "source": [
    "- Undersampling"
   ]
  },
  {
   "cell_type": "code",
   "execution_count": 272,
   "metadata": {},
   "outputs": [
    {
     "name": "stdout",
     "output_type": "stream",
     "text": [
      "              precision    recall  f1-score   support\n",
      "\n",
      "Not Approved       0.93      0.84      0.88      4396\n",
      "    Approved       0.55      0.75      0.63      1148\n",
      "\n",
      "    accuracy                           0.82      5544\n",
      "   macro avg       0.74      0.80      0.76      5544\n",
      "weighted avg       0.85      0.82      0.83      5544\n",
      "\n"
     ]
    }
   ],
   "source": [
    "# Train the model.\n",
    "knn_model.fit(X_train_us, y_train_us)\n",
    "\n",
    "# Generate classification report for the original imbalanced validation set\n",
    "print(classification_report(y_val, knn_model.predict(X_val), target_names=['Not Approved', 'Approved']))"
   ]
  },
  {
   "cell_type": "markdown",
   "metadata": {},
   "source": [
    "### 3.7: Neural Network"
   ]
  },
  {
   "cell_type": "code",
   "execution_count": 273,
   "metadata": {},
   "outputs": [
    {
     "name": "stdout",
     "output_type": "stream",
     "text": [
      "              precision    recall  f1-score   support\n",
      "\n",
      "Not Approved       0.92      0.98      0.95      4396\n",
      "    Approved       0.90      0.69      0.78      1148\n",
      "\n",
      "    accuracy                           0.92      5544\n",
      "   macro avg       0.91      0.83      0.87      5544\n",
      "weighted avg       0.92      0.92      0.92      5544\n",
      "\n"
     ]
    }
   ],
   "source": [
    "from sklearn.neural_network import MLPClassifier\n",
    "from sklearn.metrics import accuracy_score, classification_report, confusion_matrix\n",
    "\n",
    "# Initialize the Neural Network model.\n",
    "mlp_model = MLPClassifier(max_iter=500, random_state=42)\n",
    "\n",
    "# Train the model.\n",
    "mlp_model.fit(X_train, y_train)\n",
    "\n",
    "# Generate classification report for the original imbalanced validation set\n",
    "print(classification_report(y_val, mlp_model.predict(X_val), target_names=['Not Approved', 'Approved']))\n"
   ]
  },
  {
   "cell_type": "code",
   "execution_count": 274,
   "metadata": {},
   "outputs": [
    {
     "name": "stdout",
     "output_type": "stream",
     "text": [
      "              precision    recall  f1-score   support\n",
      "\n",
      "Not Approved       0.94      0.87      0.90      4396\n",
      "    Approved       0.60      0.78      0.68      1148\n",
      "\n",
      "    accuracy                           0.85      5544\n",
      "   macro avg       0.77      0.82      0.79      5544\n",
      "weighted avg       0.87      0.85      0.86      5544\n",
      "\n"
     ]
    }
   ],
   "source": [
    "# Train the model.\n",
    "mlp_model.fit(X_train_us, y_train_us)\n",
    "\n",
    "# Generate classification report for the original imbalanced validation set\n",
    "print(classification_report(y_val, mlp_model.predict(X_val), target_names=['Not Approved', 'Approved']))"
   ]
  },
  {
   "cell_type": "markdown",
   "metadata": {},
   "source": [
    "# Chapter 4: Conclusion\n",
    "\n",
    "### We have reached the end of our project. Let's now take a look at our final conclusions!"
   ]
  },
  {
   "cell_type": "markdown",
   "metadata": {},
   "source": [
    "After evaluating various models, we have identified the Gradient Boosting model as the most accurate in predicting loan approval outcomes. This model demonstrates superior performance in discerning situations where loans are likely to be approved or denied. Its robust predictive capabilities make it the best choice for our lending decision framework."
   ]
  },
  {
   "cell_type": "code",
   "execution_count": 275,
   "metadata": {},
   "outputs": [
    {
     "name": "stdout",
     "output_type": "stream",
     "text": [
      "              precision    recall  f1-score   support\n",
      "\n",
      "Not Approved       0.93      0.99      0.96      4374\n",
      "    Approved       0.96      0.73      0.83      1170\n",
      "\n",
      "    accuracy                           0.94      5544\n",
      "   macro avg       0.95      0.86      0.90      5544\n",
      "weighted avg       0.94      0.94      0.93      5544\n",
      "\n"
     ]
    }
   ],
   "source": [
    "import pickle\n",
    "\n",
    "# Train the model.\n",
    "gb_model.fit(X_train, y_train)\n",
    "\n",
    "# # Save the trained model to a file\n",
    "# with open('credit_gb_std.pkl', 'wb') as file:\n",
    "#     pickle.dump(gb_model, file)\n",
    "\n",
    "# Generate classification report for the original imbalanced validation set\n",
    "print(classification_report(y_test, gb_model.predict(X_test), target_names=['Not Approved', 'Approved']))"
   ]
  },
  {
   "cell_type": "markdown",
   "metadata": {},
   "source": [
    "The Gradient Boosting model, trained on undersampled datasets, demonstrated superior efficacy in predicting loan approvals within the context of an imbalanced dataset"
   ]
  },
  {
   "cell_type": "code",
   "execution_count": 276,
   "metadata": {},
   "outputs": [
    {
     "name": "stdout",
     "output_type": "stream",
     "text": [
      "              precision    recall  f1-score   support\n",
      "\n",
      "Not Approved       0.95      0.91      0.93      4374\n",
      "    Approved       0.71      0.83      0.76      1170\n",
      "\n",
      "    accuracy                           0.89      5544\n",
      "   macro avg       0.83      0.87      0.85      5544\n",
      "weighted avg       0.90      0.89      0.89      5544\n",
      "\n"
     ]
    }
   ],
   "source": [
    "# Train the model.\n",
    "gb_model.fit(X_train_us, y_train_us)\n",
    "\n",
    "# # Save the trained model to a file\n",
    "# with open('credit_gb_us.pkl', 'wb') as file:\n",
    "#     pickle.dump(gb_model, file)\n",
    "\n",
    "# Generate classification report for the original imbalanced validation set\n",
    "print(classification_report(y_test, gb_model.predict(X_test), target_names=['Not Approved', 'Approved']))"
   ]
  }
 ],
 "metadata": {
  "kernelspec": {
   "display_name": "Python 3",
   "language": "python",
   "name": "python3"
  },
  "language_info": {
   "codemirror_mode": {
    "name": "ipython",
    "version": 3
   },
   "file_extension": ".py",
   "mimetype": "text/x-python",
   "name": "python",
   "nbconvert_exporter": "python",
   "pygments_lexer": "ipython3",
   "version": "3.11.9"
  }
 },
 "nbformat": 4,
 "nbformat_minor": 2
}
